{
 "cells": [
  {
   "cell_type": "markdown",
   "id": "62eec4c8-1bca-4653-8518-b52cbdc2c551",
   "metadata": {},
   "source": [
    "# Introduction to Partial Differential Equations\n",
    "---\n",
    "\n",
    "\n",
    "## Chapter 1: Preliminaries (Calculus, Linear Algebra, ODEs, and Python)\n",
    "---"
   ]
  },
  {
   "cell_type": "markdown",
   "id": "20f1ea5e-128b-42e7-8964-fc0828e54b52",
   "metadata": {},
   "source": [
    "## Want to use Colab? [![Open in Colab](https://colab.research.google.com/assets/colab-badge.svg)](https://githubtocolab.com/CU-Denver-MathStats-OER/Intro-PDEs-Theory-and-Computations/blob/main/Chp1/Chp1Sec2.ipynb)\n",
    "\n",
    "---"
   ]
  },
  {
   "cell_type": "markdown",
   "id": "498d3079-3fa5-4ec5-88b0-c2a711af543a",
   "metadata": {},
   "source": [
    "## Prepping the environment for interactive plots in Colab\n",
    "---"
   ]
  },
  {
   "cell_type": "code",
   "execution_count": 1,
   "id": "e21bf339-b363-468e-8a1b-1fa0ee54698a",
   "metadata": {},
   "outputs": [
    {
     "name": "stdout",
     "output_type": "stream",
     "text": [
      "Not running on CoLab - assuming environment has necessary packages\n"
     ]
    }
   ],
   "source": [
    "if 'google.colab' in str(get_ipython()):\n",
    "    print('Running on CoLab - installing missing packages')\n",
    "    !pip install ipympl\n",
    "    from IPython.display import clear_output\n",
    "    clear_output()\n",
    "    exit()\n",
    "else:\n",
    "    print('Not running on CoLab - assuming environment has necessary packages')"
   ]
  },
  {
   "cell_type": "code",
   "execution_count": 2,
   "id": "2bae93f4-c388-41fb-8722-d3d7be124c65",
   "metadata": {},
   "outputs": [],
   "source": [
    "%matplotlib inline\n",
    "if 'google.colab' in str(get_ipython()):\n",
    "    from google.colab import output\n",
    "    output.enable_custom_widget_manager()"
   ]
  },
  {
   "cell_type": "markdown",
   "id": "f349a264-4f12-4403-afe3-d7786fa9b1d4",
   "metadata": {},
   "source": [
    "## Creative Commons License Information\n",
    "---\n",
    "\n",
    "<a rel=\"license\" href=\"http://creativecommons.org/licenses/by-nc/4.0/\"><img alt=\"Creative Commons License\" style=\"border-width:0\" src=\"https://i.creativecommons.org/l/by-nc/4.0/80x15.png\" /></a><br /><span xmlns:dct=\"http://purl.org/dc/terms/\" property=\"dct:title\">Introduction to Partial Differential Equations: Theory and Computations</span> by <a xmlns:cc=\"http://creativecommons.org/ns#\" href=\"https://github.com/CU-Denver-MathStats-OER/Intro-PDEs-Theory-and-Computations\" property=\"cc:attributionName\" rel=\"cc:attributionURL\">Troy Butler</a> is licensed under a <a rel=\"license\" href=\"http://creativecommons.org/licenses/by-nc/4.0/\">Creative Commons Attribution-NonCommercial 4.0 International License</a>.<br />Based on a work at <a xmlns:dct=\"http://purl.org/dc/terms/\" href=\"https://github.com/CU-Denver-MathStats-OER/Intro-PDEs-Theory-and-Computations\" rel=\"dct:source\">https://github.com/CU-Denver-MathStats-OER/Intro-PDEs-Theory-and-Computations</a>."
   ]
  },
  {
   "cell_type": "markdown",
   "id": "8caa5460-1b82-444c-b58e-b1a6528255e0",
   "metadata": {},
   "source": [
    "## Section 1.2: Approximations and Rates of Convergence\n",
    "---\n",
    "\n",
    "The purpose of this section is to develop computational approaches to investigating the **rates of convergence** of schemes under the condition that the *exact* solution is available.\n",
    "\n",
    "The situation is a common one. We have a type of problem we wish to approximately solve using an algorithm. We implement the algorithm in code. We wish to verify that code *works*. To verify that code works, we typically mean two things. First, we check that the code produces an approximation to a *known* solution when the parameters/data for the problem are properly set up for the code. Second, we check that the approximations *converge* to the solution as various algorithmic parameters are refined. \n",
    "\n",
    "In some cases, a theoretical rate of convergenge is known or provable when certain assumptions are met about the parameters/data for the problem. However, this is not always the case, or it may be very difficult to obtain such theoretical rates of convergence. \n",
    "\n",
    "The methods studied in this notebook can be used to investigate the rate of convergence of a method even if a theoretical rate of convergence is not known. The numerically observed rates of convergence can provide useful insight into what the theoretical rates of convergence may be under various assumptions about the setup of the problem.\n",
    "\n",
    "In the end, we are utilizing the **method of manufactured solutions**, which is a verification approach for code. This was discussed briefly in the previous notebook.\n",
    "\n",
    "We will reference the method of manufactured solutions many more times throughout the course."
   ]
  },
  {
   "cell_type": "markdown",
   "id": "702384ee-0b28-48d5-9096-60cc4f257c75",
   "metadata": {},
   "source": [
    "---\n",
    "### Section 1.2.1: Definitions and Notation\n",
    "---\n",
    "\n",
    "**Sequence**. \n",
    "\n",
    "> Let $X$ be a set. For $m\\in\\mathbb{Z}$, a ***sequence*** is an ordered set of terms from $X$ denoted by $x_m, x_{m+1}, x_{m+2}, \\ldots$ (with some terms possibly repeated a finite or infinite amount of times). We often use the more compact notation $(x_n)_{n=m}^\\infty\\subset X$ or $\\{x_n\\}_{n=m}^\\infty\\subset X$ to denote this set. When $m=1$ or it is understood from context what $m$ is, then we often denote the sequence even more simply as $(x_n)$ or $\\{x_n\\}$.\n",
    "\n",
    "**[Banace space (a more familiar concept than you may think)](https://en.wikipedia.org/wiki/Banach_space)**. \n",
    "\n",
    "> A ***Banach space*** is a complete normed vector space. Complete means that every Cauchy sequence converges and normed vector space means there exists a norm $\\|\\cdot\\|$ for computing the length of vectors and the distance between two vectors $x,y\\in X$ can be computed as $\\|x-y\\|$. Familiar examples of Banach spaces are given below.\n",
    "\n",
    "**Cauchy and convergent sequences**. \n",
    "\n",
    "> Let $X$ be a Banach space and $(x_n)\\subset X$ and $x\\in X$. We say that $(x_n)$ is ***Cauchy*** if for every $\\epsilon>0$, there exists $N$ such that for all integers $n,m\\geq N$, \n",
    "<br><br>\n",
    "$$\n",
    "    \\large \\|x_n - x_m\\| <\\epsilon.\n",
    "$$\n",
    "<br>\n",
    "We say that $(x_n)$ ***converges*** if there exists $x\\in X$ such that for every $\\epsilon>0$ there exists $N$ such that for all integers $n\\geq N$, \n",
    "<br><br>\n",
    "$$ \\large \\|x_n-x \\| < \\epsilon.$$\n",
    "\n",
    "\n",
    "*Remarks:*\n",
    "\n",
    "- If $(x_n)$ converges to $x$, then we write either \n",
    "\n",
    "$$\\large \\lim_{n\\to\\infty} x_n=x, \\ \\text{ or more simply } \\ x_n\\to x.$$\n",
    "\n",
    "- In the definition, $N$ can actually be a real number, but $n$ must be an integer.\n",
    "\n",
    "- If we consider the space $X=(0,1]\\subset\\mathbb{R}$, then $(1/n)\\subset X$ is Cauchy but does not converge because $0\\notin X$. \n",
    "\n",
    "- The properties of a [norm](https://en.wikipedia.org/wiki/Norm_(mathematics)) on a space $X$ allow us to establish both (1) a triangle inequality: $\\|x-y\\| \\leq \\|x-z\\| + \\|z-y\\|$ for all $x,y,z\\in X$; and (2) a symmetry property: $\\|x-y\\| = \\|y-x\\|$ for all $x,y\\in X$. Thus, it follows that $\\|x_n-x_m\\| \\leq \\|x_n-x\\| + \\|x_m-x\\|$, which is what we use to prove that any convergent sequence is also Cauchy. The idea of a complete space is that the converse is true (i.e., Cauchy sequences are convergent). \n",
    "\n",
    "  - Take $X=(0,1]\\subset\\mathbb{R}$ and $(1/n)\\in X$. Then, this sequence is Cauchy but not convergent in $X$ since $0\\notin X$."
   ]
  },
  {
   "cell_type": "markdown",
   "id": "921ff1a3-f8ca-4f1f-8567-dccd736af381",
   "metadata": {},
   "source": [
    "---\n",
    "#### Examples of Banach spaces and convergent sequences\n",
    "---\n",
    "\n",
    "There are [many examples](https://en.wikipedia.org/wiki/Banach_space#Examples_2) of Banach spaces. Below, we summarize some of the more common/familiar ones. \n",
    "\n",
    "**A familiar finite-dimensional vector space:**\n",
    "\n",
    "- $\\mathbb{R}^k$ for any $k\\in\\mathbb{N}$ equipped with any norm is an examples of a Banach space. The typical norm is the Euclidean norm (i.e, the 2-norm) where if $x\\in \\mathbb{R}^k$, and $x^{(i)}$ denotes the $i$th component of $x$ for $1\\leq i\\leq k$,  then \n",
    "<br><br>\n",
    "$$\n",
    "    \\| x\\|_2 = \\left(\\sum_{i=1}^k |x^{(i)}|^2\\right)^{1/2}\n",
    "$$\n",
    "<br>\n",
    "  \n",
    "  - Note that when $k=1$, this reduces to $\\mathbb{R}$ and the norm reduces to the standard absolute value.\n",
    "  \n",
    "  - Any norm will do in $\\mathbb{R}^k$ because [all norms are equivalent on finite dimensional vector spaces](https://proofwiki.org/wiki/Norms_on_Finite-Dimensional_Real_Vector_Space_are_Equivalent).\n",
    "  \n",
    "  - A norm we often use in this class is the $\\sup$-norm (sometimes called the $\\infty$-norm) defined by\n",
    "  <br>\n",
    "$$\n",
    "    \\| x\\|_\\infty = \\sup_{1\\leq i\\leq k} | x^{(i)}| = \\max_{1\\leq i\\leq k} | x^{(i)}|\n",
    "$$\n",
    "<br>\n",
    "    note that we can interchange $\\sup$ and $\\max$ when the sets are finite.\n",
    "    \n",
    "We explore how to compute the norms of finite-dimensional vectors by creating some 1-d arrays in [`numpy`](https://numpy.org/) and using the [`norm` method within the `linalg` subpackage of `numpy`](https://numpy.org/doc/stable/reference/generated/numpy.linalg.norm.html)."
   ]
  },
  {
   "cell_type": "code",
   "execution_count": 3,
   "id": "8099ae1e-b39b-489c-addc-9318ad048008",
   "metadata": {},
   "outputs": [],
   "source": [
    "import numpy as np  # Now we can create arrays"
   ]
  },
  {
   "cell_type": "code",
   "execution_count": 4,
   "id": "0bb4f79e-a798-4f4a-980b-a7bfcf1af3bb",
   "metadata": {},
   "outputs": [
    {
     "data": {
      "text/plain": [
       "(6,)"
      ]
     },
     "execution_count": 4,
     "metadata": {},
     "output_type": "execute_result"
    }
   ],
   "source": [
    "x = np.array([1, -2, 3, -4, 5, -6])  # A 1-d array of length 6 representing a 6-dimensional vector\n",
    "\n",
    "x.shape  # This will display (6,) meaning we think of this 1-d array as a 6-dimensional vector"
   ]
  },
  {
   "cell_type": "code",
   "execution_count": 5,
   "id": "0f05d256-79a1-4373-863b-0ca2ac71e7f6",
   "metadata": {},
   "outputs": [
    {
     "data": {
      "text/plain": [
       "9.539392014169456"
      ]
     },
     "execution_count": 5,
     "metadata": {},
     "output_type": "execute_result"
    }
   ],
   "source": [
    "np.linalg.norm(x)  # The default is the Euclidean/2-norm"
   ]
  },
  {
   "cell_type": "code",
   "execution_count": 6,
   "id": "1ce69307-c3ed-42c2-a675-d3a3876cc9f5",
   "metadata": {},
   "outputs": [
    {
     "data": {
      "text/plain": [
       "9.539392014169456"
      ]
     },
     "execution_count": 6,
     "metadata": {},
     "output_type": "execute_result"
    }
   ],
   "source": [
    "np.linalg.norm(x, ord=2)  # The ord keyword specifies the type of norm"
   ]
  },
  {
   "cell_type": "code",
   "execution_count": 7,
   "id": "039faadc-d703-42fb-8297-185cea1412ff",
   "metadata": {},
   "outputs": [
    {
     "data": {
      "text/plain": [
       "6.0"
      ]
     },
     "execution_count": 7,
     "metadata": {},
     "output_type": "execute_result"
    }
   ],
   "source": [
    "np.linalg.norm(x, ord=np.inf)  # Use the built-in np.inf constant to specify the infinity-norm"
   ]
  },
  {
   "cell_type": "code",
   "execution_count": 8,
   "id": "94107375-69f5-4ddb-90f4-6d8227270093",
   "metadata": {},
   "outputs": [
    {
     "data": {
      "text/plain": [
       "21.0"
      ]
     },
     "execution_count": 8,
     "metadata": {},
     "output_type": "execute_result"
    }
   ],
   "source": [
    "np.linalg.norm(x, ord=1)  # This is the 1-norm defined by the sum of the absolute value of the components"
   ]
  },
  {
   "cell_type": "markdown",
   "id": "b8dfb9b1-e17d-4fad-93e2-e26ea93dab1a",
   "metadata": {},
   "source": [
    "Below, we show how to create a vector with random entries and do some fancing printing of code by displaying Markdown formatted text as output from a code cell."
   ]
  },
  {
   "cell_type": "code",
   "execution_count": 9,
   "id": "e5070d95-a5bf-45af-97b2-260d611802a9",
   "metadata": {},
   "outputs": [],
   "source": [
    "# This allows us to print fancy looking outputs from code by defining a printmd function\n",
    "# to display Markdown formatted outputs.\n",
    "\n",
    "from IPython.display import Markdown, display\n",
    "def printmd(string):\n",
    "    display(Markdown(string))"
   ]
  },
  {
   "cell_type": "code",
   "execution_count": 10,
   "id": "f09c8948-341f-4aa0-b84c-741c2ac9e583",
   "metadata": {},
   "outputs": [
    {
     "name": "stdout",
     "output_type": "stream",
     "text": [
      "~~~~~~~~~~~~~~~~~~~~~~~~~~~~~~~~~~~~~~~~~~~~~~~~~~~~~~~~~~~~~~~~~~~~~~~~~~~~~~~~~~~~~~~~~~~~~~~~~~~~\n",
      "y =  [ 13.25315855   2.35779501  23.55509661  20.67667205  12.90185509\n",
      "   1.43779442 -13.29287727  -2.51284931  -9.73787858 -12.62879203\n",
      "   5.66695503]\n",
      "~~~~~~~~~~~~~~~~~~~~~~~~~~~~~~~~~~~~~~~~~~~~~~~~~~~~~~~~~~~~~~~~~~~~~~~~~~~~~~~~~~~~~~~~~~~~~~~~~~~~\n"
     ]
    },
    {
     "data": {
      "text/markdown": [
       "$\\| y\\|_2 \\approx$ 42.44455"
      ],
      "text/plain": [
       "<IPython.core.display.Markdown object>"
      ]
     },
     "metadata": {},
     "output_type": "display_data"
    },
    {
     "data": {
      "text/markdown": [
       "$\\| y\\|_\\infty \\approx$ 23.55510"
      ],
      "text/plain": [
       "<IPython.core.display.Markdown object>"
      ]
     },
     "metadata": {},
     "output_type": "display_data"
    }
   ],
   "source": [
    "# Below we create a random 11-dimensional vector where each component \n",
    "# is drawn from a N(mu, sigma^2) distribution\n",
    "mu = 5\n",
    "sigma = 10\n",
    "y = np.random.normal(loc = mu, scale = sigma, size=(11,))\n",
    "\n",
    "# Now we print y and the 2- and infinity-norms\n",
    "print('~'*100)\n",
    "print('y = ', y)\n",
    "print('~'*100)\n",
    "# The r in beginning of the printmd(r ...) is used to treat the string as a raw string that treats\n",
    "# the backslashes as literal characters. This is useful and sometimes necessary when trying to \n",
    "# display nice looking LaTeX style outputs\n",
    "printmd(r'$\\| y\\|_2 \\approx$ {:.5f}'.format(np.linalg.norm(y)))\n",
    "printmd(r'$\\| y\\|_\\infty \\approx$ {:.5f}'.format(np.linalg.norm(y, ord=np.inf)))"
   ]
  },
  {
   "cell_type": "markdown",
   "id": "38b81d4e-d6d1-4e2c-ba79-907232b25b61",
   "metadata": {},
   "source": [
    "---\n",
    "#### Examples of convergent sequences in $\\mathbb{R}^k$:\n",
    "---\n",
    "\n",
    "- When $k=1$, $x_n=1/n$ for each $n\\in\\mathbb{N}$ defines a sequence of real numbers such that $x_n\\to 0$. The proof of this is given below.\n",
    "\n",
    "> Proof of $1/n\\to 0$: \n",
    "<br>\n",
    "  Let $\\epsilon>0$.\n",
    "  <br>\n",
    "  Choose $N>1/\\epsilon$.\n",
    "  <br>\n",
    "  Let $n\\geq N$, then\n",
    "  $\\begin{align}\n",
    "          |1/n - 0| &= 1/n \\\\\n",
    "                    &\\leq 1/N \\qquad (\\text{because } n\\geq N) \\\\ \n",
    "                    &<\\epsilon \\qquad (\\text{because } N>1/\\epsilon). \\ \\Box\n",
    "   \\end{align}$\n",
    "- When $k=2$, $x_n = (1/n, 1)$ for each $n\\in\\mathbb{N}$ defines a sequence in $\\mathbb{R}^2$ such that $x_n\\to (0,1)$. The proof of this is given below using the $\\sup$-norm metric. Students are encouraged to work out how the details are changed for the $2$-norm.  \n",
    "\n",
    "> Proof of $(1/n, 1)\\to 0$ using the $\\sup$-norm metric:\n",
    "<br>\n",
    "  Let $\\epsilon>0$.\n",
    "  <br>\n",
    "  Choose $N>1/\\epsilon$.\n",
    "  <br>\n",
    "  Let $n\\geq N$, then\n",
    "  $\n",
    "      \\begin{align}\n",
    "          \\|(1/n, 1) - (0,1)\\|_\\infty & = \\| (1/n - 0, 0) \\|_\\infty \\\\ \n",
    "                                      & = | 1/n - 0 | \\\\ \n",
    "                                      & < \\epsilon \\qquad (\\text{same reasons as above}). \\ \\Box.\n",
    "      \\end{align}\n",
    "  $\n",
    "  \n",
    "- Some other examples, without proof, are $((1+1/n)^n)\\subset\\mathbb{R}$ converges to $e$ whereas $((1-1/n)^n)\\subset\\mathbb{R}$ converges to $e^{-1}$. "
   ]
  },
  {
   "cell_type": "markdown",
   "id": "0938b9b9-9bda-48e4-bd6b-be0514b65e75",
   "metadata": {},
   "source": [
    "---\n",
    "#### Pointwise convergence of real-valued and vector-valued functions\n",
    "---\n",
    "\n",
    "In computational sciences, our solutions are often in the form of functions and we often consider a sequence of approximate solutions represented by a sequence of functions. For instance, consider the PDE $-\\Delta u = f$ on some domain defined as a subset of $\\mathbb{R}^k$. Let $\\Omega\\subset\\mathbb{R}^k$ denote the domain and assume that $f$ is fixed along with any associated boundary conditions. It is typically the case that we cannot solve this problem exactly and resort to numerical approximations of $u$, meaning we come up with a sequence of functions denoted by $(u_n)$ where $u_n:\\Omega\\subset\\mathbb{R}^k\\to\\mathbb{R}$. We are often interested in studying the convergence of such functions. \n",
    "\n",
    "Abstracting this to more general cases, suppose for each $n\\in\\mathbb{N}$, we have a function $f_n:\\mathbb{R}^k\\to\\mathbb{R}^\\ell$ for some fixed $k,\\ell\\in\\mathbb{N}$, and we want to study the domain $\\Omega\\subset\\mathbb{R}^k$ for which $(f_n(x))\\subset\\mathbb{R}^\\ell$ converges. Call the pointwise limit $f(x)$. The pointwise convergence of the functions is then reduced to studying the convergence of a sequence of vectors in $\\mathbb{R}^\\ell$. \n",
    "\n",
    "For now, we simplify this and suppose $k=\\ell=1$. In the code below, we numerically demonstrate how to study if a sequence of functions appears to converge pointwise by examining $(1+x/n)^n\\to e^x$ for any $x\\in\\mathbb{R}$ by showing that $|(1+x/n)^n - e^x|$ appears to converge to $0$ for any fixed $x$ as $n$ increases."
   ]
  },
  {
   "cell_type": "code",
   "execution_count": 11,
   "id": "fa63a767-5f1d-4a17-b480-211a33a0b2e6",
   "metadata": {},
   "outputs": [],
   "source": [
    "seq_n = lambda n, x: (1+x/n)**n"
   ]
  },
  {
   "cell_type": "code",
   "execution_count": 12,
   "id": "4f4d9b45-ec61-42f8-bb87-279dfb7c2e38",
   "metadata": {},
   "outputs": [],
   "source": [
    "lim_func = lambda x: np.exp(x)"
   ]
  },
  {
   "cell_type": "code",
   "execution_count": 13,
   "id": "d029f9e3-9a0b-4238-b94d-112ee15e354a",
   "metadata": {},
   "outputs": [],
   "source": [
    "import sympy as sym"
   ]
  },
  {
   "cell_type": "code",
   "execution_count": 14,
   "id": "b9b2812e-271c-4ff9-a5dd-d826b7cec1f3",
   "metadata": {},
   "outputs": [],
   "source": [
    "n, x = sym.symbols('n, x')"
   ]
  },
  {
   "cell_type": "code",
   "execution_count": 15,
   "id": "d15599c2-0756-4adc-bb34-a8aa04a86bc4",
   "metadata": {},
   "outputs": [
    {
     "data": {
      "text/latex": [
       "$\\displaystyle \\left(1 + \\frac{x}{n}\\right)^{n}$"
      ],
      "text/plain": [
       "(1 + x/n)**n"
      ]
     },
     "execution_count": 15,
     "metadata": {},
     "output_type": "execute_result"
    }
   ],
   "source": [
    "seq_n_sym = (1+x/n)**n\n",
    "seq_n_sym"
   ]
  },
  {
   "cell_type": "code",
   "execution_count": 16,
   "id": "f1322e9f-0009-4b01-a57d-572126f7035f",
   "metadata": {},
   "outputs": [
    {
     "data": {
      "text/latex": [
       "$\\displaystyle e^{x}$"
      ],
      "text/plain": [
       "exp(x)"
      ]
     },
     "execution_count": 16,
     "metadata": {},
     "output_type": "execute_result"
    }
   ],
   "source": [
    "lim_func_sym = sym.exp(x)\n",
    "lim_func_sym"
   ]
  },
  {
   "cell_type": "code",
   "execution_count": 17,
   "id": "4fb4250a-db21-49a2-be1d-5f0d4b67725c",
   "metadata": {},
   "outputs": [
    {
     "name": "stdout",
     "output_type": "stream",
     "text": [
      "~~~~~~~~~~~~~~~~~~~~~~~~~~~~~~~~~~~~~~~~~~~~~~~~~~\n",
      "~~~~~~~~~~~~~~~~~~~~~~~~~~~~~~~~~~~~~~~~~~~~~~~~~~\n"
     ]
    },
    {
     "data": {
      "text/markdown": [
       "$(n, x)=$(100,1.000)$\\quad \\Rightarrow \\quad \\left|\\left(1 + \\frac{x}{n}\\right)^{n}-e^{x}\\right| \\approx $0.01347"
      ],
      "text/plain": [
       "<IPython.core.display.Markdown object>"
      ]
     },
     "metadata": {},
     "output_type": "display_data"
    },
    {
     "data": {
      "text/markdown": [
       "$(n, x)=$(10000,1.000)$\\quad \\Rightarrow \\quad \\left|\\left(1 + \\frac{x}{n}\\right)^{n}-e^{x}\\right| \\approx $0.00014"
      ],
      "text/plain": [
       "<IPython.core.display.Markdown object>"
      ]
     },
     "metadata": {},
     "output_type": "display_data"
    },
    {
     "data": {
      "text/markdown": [
       "$(n, x)=$(1000000,1.000)$\\quad \\Rightarrow \\quad \\left|\\left(1 + \\frac{x}{n}\\right)^{n}-e^{x}\\right| \\approx $0.00000"
      ],
      "text/plain": [
       "<IPython.core.display.Markdown object>"
      ]
     },
     "metadata": {},
     "output_type": "display_data"
    },
    {
     "name": "stdout",
     "output_type": "stream",
     "text": [
      "~~~~~~~~~~~~~~~~~~~~~~~~~~~~~~~~~~~~~~~~~~~~~~~~~~\n",
      "~~~~~~~~~~~~~~~~~~~~~~~~~~~~~~~~~~~~~~~~~~~~~~~~~~\n"
     ]
    },
    {
     "data": {
      "text/markdown": [
       "$(n, x)=$(100,-1.000)$\\quad \\Rightarrow \\quad \\left|\\left(1 + \\frac{x}{n}\\right)^{n}-e^{x}\\right| \\approx $0.00185"
      ],
      "text/plain": [
       "<IPython.core.display.Markdown object>"
      ]
     },
     "metadata": {},
     "output_type": "display_data"
    },
    {
     "data": {
      "text/markdown": [
       "$(n, x)=$(10000,-1.000)$\\quad \\Rightarrow \\quad \\left|\\left(1 + \\frac{x}{n}\\right)^{n}-e^{x}\\right| \\approx $0.00002"
      ],
      "text/plain": [
       "<IPython.core.display.Markdown object>"
      ]
     },
     "metadata": {},
     "output_type": "display_data"
    },
    {
     "data": {
      "text/markdown": [
       "$(n, x)=$(1000000,-1.000)$\\quad \\Rightarrow \\quad \\left|\\left(1 + \\frac{x}{n}\\right)^{n}-e^{x}\\right| \\approx $0.00000"
      ],
      "text/plain": [
       "<IPython.core.display.Markdown object>"
      ]
     },
     "metadata": {},
     "output_type": "display_data"
    },
    {
     "name": "stdout",
     "output_type": "stream",
     "text": [
      "~~~~~~~~~~~~~~~~~~~~~~~~~~~~~~~~~~~~~~~~~~~~~~~~~~\n",
      "~~~~~~~~~~~~~~~~~~~~~~~~~~~~~~~~~~~~~~~~~~~~~~~~~~\n"
     ]
    },
    {
     "data": {
      "text/markdown": [
       "$(n, x)=$(100,3.142)$\\quad \\Rightarrow \\quad \\left|\\left(1 + \\frac{x}{n}\\right)^{n}-e^{x}\\right| \\approx $1.09198"
      ],
      "text/plain": [
       "<IPython.core.display.Markdown object>"
      ]
     },
     "metadata": {},
     "output_type": "display_data"
    },
    {
     "data": {
      "text/markdown": [
       "$(n, x)=$(10000,3.142)$\\quad \\Rightarrow \\quad \\left|\\left(1 + \\frac{x}{n}\\right)^{n}-e^{x}\\right| \\approx $0.01141"
      ],
      "text/plain": [
       "<IPython.core.display.Markdown object>"
      ]
     },
     "metadata": {},
     "output_type": "display_data"
    },
    {
     "data": {
      "text/markdown": [
       "$(n, x)=$(1000000,3.142)$\\quad \\Rightarrow \\quad \\left|\\left(1 + \\frac{x}{n}\\right)^{n}-e^{x}\\right| \\approx $0.00011"
      ],
      "text/plain": [
       "<IPython.core.display.Markdown object>"
      ]
     },
     "metadata": {},
     "output_type": "display_data"
    },
    {
     "name": "stdout",
     "output_type": "stream",
     "text": [
      "~~~~~~~~~~~~~~~~~~~~~~~~~~~~~~~~~~~~~~~~~~~~~~~~~~\n"
     ]
    }
   ],
   "source": [
    "xs = [1, -1, np.pi]  # A sampling of xs\n",
    "ns = np.logspace(2, 6, 3).astype('int')  # Makes an array of integers 100, 10000, and 1000000\n",
    "print('~'*50)\n",
    "for x in xs:\n",
    "    print('~'*50)\n",
    "    for n in ns:\n",
    "        # I know this looks awful, but it is just formatting code outputs to look nice\n",
    "        printmd('$(n, x)=$({:d},{:.3f})'.format(n, x) + \\\n",
    "                r'$\\quad \\Rightarrow \\quad \\left|' + sym.latex(seq_n_sym) + \\\n",
    "                '-' + sym.latex(lim_func_sym) + r'\\right| \\approx $' + \\\n",
    "                '{:.5f}'.format(np.abs(seq_n(n,x)-lim_func(x))))\n",
    "    print('~'*50)"
   ]
  },
  {
   "cell_type": "markdown",
   "id": "d5240afb-57dd-4e8d-8906-fe76202660e8",
   "metadata": {},
   "source": [
    "<mark>**This is a great place to use widgets for greater interactivity.**</mark>"
   ]
  },
  {
   "cell_type": "code",
   "execution_count": 18,
   "id": "9d88e170-e4ec-4c62-9561-0fb9128370e1",
   "metadata": {},
   "outputs": [],
   "source": [
    "# Time for widgets!\n",
    "from ipywidgets import interact, interactive, fixed, interact_manual\n",
    "import ipywidgets as widgets"
   ]
  },
  {
   "cell_type": "code",
   "execution_count": 19,
   "id": "9a906717-483a-44bb-bad1-2dff26512b95",
   "metadata": {},
   "outputs": [],
   "source": [
    "def pointwise_convergence(x, ns, seq_n, seq_n_sym, lim_func, lim_func_sym):\n",
    "    print('~'*50)\n",
    "    print('~'*50)\n",
    "    for n in ns:\n",
    "        # I know this looks awful, but it is just formatting code outputs to look nice\n",
    "        printmd('$(n, x)=$({:d},{:.3f})'.format(n, x) + \\\n",
    "                r'$\\quad \\Rightarrow \\quad \\left|' + sym.latex(seq_n_sym) + \\\n",
    "                '-' + sym.latex(lim_func_sym) + r'\\right| \\approx $' + \\\n",
    "                '{:.5f}'.format(np.abs(seq_n(n,x)-lim_func(x))))\n",
    "    print('~'*50)\n",
    "    print('~'*50)"
   ]
  },
  {
   "cell_type": "code",
   "execution_count": 20,
   "id": "f6c60769-99c9-4e82-a7dc-9fb18afddcfa",
   "metadata": {},
   "outputs": [
    {
     "data": {
      "application/vnd.jupyter.widget-view+json": {
       "model_id": "9e6f5a44185446aab5cdc3bb7d967f0c",
       "version_major": 2,
       "version_minor": 0
      },
      "text/plain": [
       "interactive(children=(FloatText(value=4.0, description='x'), Button(description='Run Interact', style=ButtonSt…"
      ]
     },
     "metadata": {},
     "output_type": "display_data"
    },
    {
     "data": {
      "text/plain": [
       "<function __main__.pointwise_convergence(x, ns, seq_n, seq_n_sym, lim_func, lim_func_sym)>"
      ]
     },
     "execution_count": 20,
     "metadata": {},
     "output_type": "execute_result"
    }
   ],
   "source": [
    "interact_manual(pointwise_convergence, \n",
    "                x = widgets.FloatText(value=4),\n",
    "                ns = fixed(np.logspace(1, 6, 6).astype('int')), \n",
    "                seq_n = fixed(seq_n), \n",
    "                seq_n_sym = fixed(seq_n_sym), \n",
    "                lim_func = fixed(lim_func),\n",
    "                lim_func_sym = fixed(lim_func_sym))"
   ]
  },
  {
   "cell_type": "markdown",
   "id": "8c16c994-779b-4d9f-9548-66a1dae2bd0f",
   "metadata": {},
   "source": [
    "---\n",
    "#### Student Activity\n",
    "---\n",
    "\n",
    "Prove that $x_n = \\sqrt{1/n}\\to 0$."
   ]
  },
  {
   "cell_type": "markdown",
   "id": "05f1b591-6b0f-40bc-9b93-f23366427034",
   "metadata": {},
   "source": [
    "Let $\\varepsilon > 0$, and let $N = \\frac{1}{\\varepsilon^2}$, Then for each $n\\in\\mathbb{N}$ such that $n > N$ we have\n",
    "$$\n",
    "\\begin{align}\n",
    "    |\\sqrt{1/n} - 0| &= \\sqrt{1/n} \\\\\n",
    "    &< \\sqrt{\\varepsilon^2} \\\\\n",
    "    &= \\varepsilon\n",
    "\\end{align}\n",
    "$$\n",
    "Thus $x_n \\rightarrow 0$ as desired."
   ]
  },
  {
   "cell_type": "markdown",
   "id": "d7bde885-f68c-4c47-9542-3b7b151c0380",
   "metadata": {},
   "source": [
    "---\n",
    "#### Student Activity\n",
    "---\n",
    "\n",
    "Numerically demonstrate that $\\sum_{k=0}^n x^k \\to \\frac{1}{1-x}$ as $n\\to\\infty$ for any $x\\in(-1,1)$ by showing that $\\left|\\left(\\sum_{k=0}^n x^n\\right) - 1/(1-x)\\right|$ appears to converge to $0$ for any fixed $x\\in(-1,1)$ as $n$ increases. \n",
    "\n",
    "The function for the summation and its proposed limit are provided for you below."
   ]
  },
  {
   "cell_type": "code",
   "execution_count": 21,
   "id": "7e0d7084-8837-4d58-b62f-97fa6371eb8e",
   "metadata": {},
   "outputs": [],
   "source": [
    "def partial_sum(n, x):\n",
    "    s_n = 0\n",
    "    for k in range(n+1):\n",
    "        s_n += x**k\n",
    "    return s_n"
   ]
  },
  {
   "cell_type": "code",
   "execution_count": 22,
   "id": "88220412-adbc-4504-84a7-54f99f2b4b0e",
   "metadata": {},
   "outputs": [],
   "source": [
    "lim_func = lambda x: 1/(1-x)"
   ]
  },
  {
   "cell_type": "code",
   "execution_count": 23,
   "id": "80783231-89b9-4ce5-bb22-2ae5c5e9daef",
   "metadata": {},
   "outputs": [],
   "source": [
    "n, x, k = sym.symbols('n, x, k')"
   ]
  },
  {
   "cell_type": "code",
   "execution_count": 24,
   "id": "befa1fb4-a338-443b-82fd-721c7fa9a421",
   "metadata": {},
   "outputs": [
    {
     "data": {
      "text/latex": [
       "$\\displaystyle \\sum_{k=0}^{n} x^{k}$"
      ],
      "text/plain": [
       "Sum(x**k, (k, 0, n))"
      ]
     },
     "execution_count": 24,
     "metadata": {},
     "output_type": "execute_result"
    }
   ],
   "source": [
    "partial_sum_sym = sym.Sum(x**k, (k,0,n))\n",
    "partial_sum_sym"
   ]
  },
  {
   "cell_type": "code",
   "execution_count": 25,
   "id": "27856333-d2a6-45ec-977b-27d36ffb6675",
   "metadata": {},
   "outputs": [
    {
     "data": {
      "text/latex": [
       "$\\displaystyle \\frac{1}{1 - x}$"
      ],
      "text/plain": [
       "1/(1 - x)"
      ]
     },
     "execution_count": 25,
     "metadata": {},
     "output_type": "execute_result"
    }
   ],
   "source": [
    "lim_func_sym = 1/(1-x)\n",
    "lim_func_sym"
   ]
  },
  {
   "cell_type": "code",
   "execution_count": 26,
   "id": "de58a011-130c-4caf-8617-9294c3e1fb47",
   "metadata": {},
   "outputs": [
    {
     "name": "stdout",
     "output_type": "stream",
     "text": [
      "~~~~~~~~~~~~~~~~~~~~~~~~~~~~~~~~~~~~~~~~~~~~~~~~~~\n",
      "For n = 10, x = -9.000000e-01, relErr = 3.138106e-01\n",
      "For n = 100, x = -9.000000e-01, relErr = 2.390526e-05\n",
      "For n = 1000, x = -9.000000e-01, relErr = 1.687539e-15\n",
      "~~~~~~~~~~~~~~~~~~~~~~~~~~~~~~~~~~~~~~~~~~~~~~~~~~\n",
      "For n = 10, x = -8.000000e-01, relErr = 8.589935e-02\n",
      "For n = 100, x = -8.000000e-01, relErr = 1.629624e-10\n",
      "For n = 1000, x = -8.000000e-01, relErr = 3.996803e-16\n",
      "~~~~~~~~~~~~~~~~~~~~~~~~~~~~~~~~~~~~~~~~~~~~~~~~~~\n",
      "For n = 10, x = -7.000000e-01, relErr = 1.977327e-02\n",
      "For n = 100, x = -7.000000e-01, relErr = 5.662137e-16\n",
      "For n = 1000, x = -7.000000e-01, relErr = 3.774758e-16\n",
      "~~~~~~~~~~~~~~~~~~~~~~~~~~~~~~~~~~~~~~~~~~~~~~~~~~\n",
      "For n = 10, x = -6.000000e-01, relErr = 3.627971e-03\n",
      "For n = 100, x = -6.000000e-01, relErr = 3.552714e-16\n",
      "For n = 1000, x = -6.000000e-01, relErr = 3.552714e-16\n",
      "~~~~~~~~~~~~~~~~~~~~~~~~~~~~~~~~~~~~~~~~~~~~~~~~~~\n",
      "For n = 10, x = -5.000000e-01, relErr = 4.882813e-04\n",
      "For n = 100, x = -5.000000e-01, relErr = 1.665335e-16\n",
      "For n = 1000, x = -5.000000e-01, relErr = 1.665335e-16\n",
      "~~~~~~~~~~~~~~~~~~~~~~~~~~~~~~~~~~~~~~~~~~~~~~~~~~\n",
      "For n = 10, x = -4.000000e-01, relErr = 4.194304e-05\n",
      "For n = 100, x = -4.000000e-01, relErr = 3.108624e-16\n",
      "For n = 1000, x = -4.000000e-01, relErr = 3.108624e-16\n",
      "~~~~~~~~~~~~~~~~~~~~~~~~~~~~~~~~~~~~~~~~~~~~~~~~~~\n",
      "For n = 10, x = -3.000000e-01, relErr = 1.771470e-06\n",
      "For n = 100, x = -3.000000e-01, relErr = 1.443290e-16\n",
      "For n = 1000, x = -3.000000e-01, relErr = 1.443290e-16\n",
      "~~~~~~~~~~~~~~~~~~~~~~~~~~~~~~~~~~~~~~~~~~~~~~~~~~\n",
      "For n = 10, x = -2.000000e-01, relErr = 2.048000e-08\n",
      "For n = 100, x = -2.000000e-01, relErr = 0.000000e+00\n",
      "For n = 1000, x = -2.000000e-01, relErr = 0.000000e+00\n",
      "~~~~~~~~~~~~~~~~~~~~~~~~~~~~~~~~~~~~~~~~~~~~~~~~~~\n",
      "For n = 10, x = -1.000000e-01, relErr = 1.000029e-11\n",
      "For n = 100, x = -1.000000e-01, relErr = 2.442491e-16\n",
      "For n = 1000, x = -1.000000e-01, relErr = 2.442491e-16\n",
      "~~~~~~~~~~~~~~~~~~~~~~~~~~~~~~~~~~~~~~~~~~~~~~~~~~\n",
      "For n = 10, x = 0.000000e+00, relErr = 0.000000e+00\n",
      "For n = 100, x = 0.000000e+00, relErr = 0.000000e+00\n",
      "For n = 1000, x = 0.000000e+00, relErr = 0.000000e+00\n",
      "~~~~~~~~~~~~~~~~~~~~~~~~~~~~~~~~~~~~~~~~~~~~~~~~~~\n",
      "For n = 10, x = 1.000000e-01, relErr = 9.999801e-12\n",
      "For n = 100, x = 1.000000e-01, relErr = 1.998401e-16\n",
      "For n = 1000, x = 1.000000e-01, relErr = 1.998401e-16\n",
      "~~~~~~~~~~~~~~~~~~~~~~~~~~~~~~~~~~~~~~~~~~~~~~~~~~\n",
      "For n = 10, x = 2.000000e-01, relErr = 2.048000e-08\n",
      "For n = 100, x = 2.000000e-01, relErr = 0.000000e+00\n",
      "For n = 1000, x = 2.000000e-01, relErr = 0.000000e+00\n",
      "~~~~~~~~~~~~~~~~~~~~~~~~~~~~~~~~~~~~~~~~~~~~~~~~~~\n",
      "For n = 10, x = 3.000000e-01, relErr = 1.771470e-06\n",
      "For n = 100, x = 3.000000e-01, relErr = 1.554312e-16\n",
      "For n = 1000, x = 3.000000e-01, relErr = 1.554312e-16\n",
      "~~~~~~~~~~~~~~~~~~~~~~~~~~~~~~~~~~~~~~~~~~~~~~~~~~\n",
      "For n = 10, x = 4.000000e-01, relErr = 4.194304e-05\n",
      "For n = 100, x = 4.000000e-01, relErr = 2.664535e-16\n",
      "For n = 1000, x = 4.000000e-01, relErr = 2.664535e-16\n",
      "~~~~~~~~~~~~~~~~~~~~~~~~~~~~~~~~~~~~~~~~~~~~~~~~~~\n",
      "For n = 10, x = 5.000000e-01, relErr = 4.882812e-04\n",
      "For n = 100, x = 5.000000e-01, relErr = 0.000000e+00\n",
      "For n = 1000, x = 5.000000e-01, relErr = 0.000000e+00\n",
      "~~~~~~~~~~~~~~~~~~~~~~~~~~~~~~~~~~~~~~~~~~~~~~~~~~\n",
      "For n = 10, x = 6.000000e-01, relErr = 3.627971e-03\n",
      "For n = 100, x = 6.000000e-01, relErr = 0.000000e+00\n",
      "For n = 1000, x = 6.000000e-01, relErr = 0.000000e+00\n",
      "~~~~~~~~~~~~~~~~~~~~~~~~~~~~~~~~~~~~~~~~~~~~~~~~~~\n",
      "For n = 10, x = 7.000000e-01, relErr = 1.977327e-02\n",
      "For n = 100, x = 7.000000e-01, relErr = 5.329071e-16\n",
      "For n = 1000, x = 7.000000e-01, relErr = 3.996803e-16\n",
      "~~~~~~~~~~~~~~~~~~~~~~~~~~~~~~~~~~~~~~~~~~~~~~~~~~\n",
      "For n = 10, x = 8.000000e-01, relErr = 8.589935e-02\n",
      "For n = 100, x = 8.000000e-01, relErr = 1.629626e-10\n",
      "For n = 1000, x = 8.000000e-01, relErr = 0.000000e+00\n",
      "~~~~~~~~~~~~~~~~~~~~~~~~~~~~~~~~~~~~~~~~~~~~~~~~~~\n",
      "For n = 10, x = 9.000000e-01, relErr = 3.138106e-01\n",
      "For n = 100, x = 9.000000e-01, relErr = 2.390526e-05\n",
      "For n = 1000, x = 9.000000e-01, relErr = 1.776357e-16\n"
     ]
    }
   ],
   "source": [
    "# Students should numerically demonstrate the convergence in this code cell\n",
    "xs = np.linspace(-1,1,num=20,endpoint=False)[1:]\n",
    "ns = np.logspace(1,3, 3).astype('int')  \n",
    "for x in xs:\n",
    "    print('~'*50)\n",
    "    for n in ns:\n",
    "        print(\"For n = {:d}, x = {:e}, relErr = {:e}\".format(n,x,np.abs(partial_sum(n,x) - lim_func(x))/np.abs(lim_func(x))))"
   ]
  },
  {
   "cell_type": "markdown",
   "id": "68cd8169-c41e-477d-b6da-c0f820930cc8",
   "metadata": {},
   "source": [
    "---\n",
    "#### Student Activity\n",
    "---\n",
    "\n",
    "Numerically demonstrate that $\\displaystyle\\sum_{k=0}^n \\frac{x^k}{k!}\\to e^x$ as $n\\to\\infty$ for any $x\\in\\mathbb{R}$. \n",
    "\n"
   ]
  },
  {
   "cell_type": "code",
   "execution_count": 27,
   "id": "a90697e1-740a-472b-b8c8-6ad18a2b7e9f",
   "metadata": {},
   "outputs": [],
   "source": [
    "# A useful function for this activity is the factorial function in scipy\n",
    "from scipy.special import factorial as factorial"
   ]
  },
  {
   "cell_type": "code",
   "execution_count": 28,
   "id": "05af6870-dfe2-48cd-944f-fde07c5bc785",
   "metadata": {},
   "outputs": [
    {
     "data": {
      "text/plain": [
       "24.0"
      ]
     },
     "execution_count": 28,
     "metadata": {},
     "output_type": "execute_result"
    }
   ],
   "source": [
    "# Demonstrating the factorial function in a way students are likely to use in their code\n",
    "factorial(4)"
   ]
  },
  {
   "cell_type": "code",
   "execution_count": 29,
   "id": "251ee614-3a9c-4aa5-a94d-083fb4aff7a2",
   "metadata": {},
   "outputs": [
    {
     "data": {
      "text/plain": [
       "array([ 1.,  2.,  6., 24.])"
      ]
     },
     "execution_count": 29,
     "metadata": {},
     "output_type": "execute_result"
    }
   ],
   "source": [
    "# Demonstrating the factorial function on an array (this cannot be done with the math.factorial function)\n",
    "factorial(np.array([1, 2, 3, 4]))"
   ]
  },
  {
   "cell_type": "code",
   "execution_count": 30,
   "id": "358ce1d1-3d4b-44d5-9864-16ce38366e11",
   "metadata": {},
   "outputs": [],
   "source": [
    "# Students should code the partial_sum function here\n",
    "def partial_sum(n,x):\n",
    "    ret = 0\n",
    "    for k in range(n+1):\n",
    "        ret += x**k / factorial(k)\n",
    "    return ret\n",
    "\n",
    "def lim_func(x):\n",
    "    return np.exp(x)"
   ]
  },
  {
   "cell_type": "code",
   "execution_count": 31,
   "id": "8a281051-74ec-4a22-a5f1-5f9d01023ac2",
   "metadata": {},
   "outputs": [
    {
     "data": {
      "text/latex": [
       "$\\displaystyle \\sum_{k=0}^{n} \\frac{x^{k}}{k!}$"
      ],
      "text/plain": [
       "Sum(x**k/factorial(k), (k, 0, n))"
      ]
     },
     "execution_count": 31,
     "metadata": {},
     "output_type": "execute_result"
    }
   ],
   "source": [
    "# The symbolic partial_sum function is provided here for convenience\n",
    "x, n = sym.symbols('x, n')\n",
    "partial_sum_sym = sym.Sum(x**k/sym.factorial(k), (k,0,n))\n",
    "partial_sum_sym"
   ]
  },
  {
   "cell_type": "code",
   "execution_count": 32,
   "id": "e451ce1e-4bd6-41ea-9b44-56cb4143e5e6",
   "metadata": {},
   "outputs": [
    {
     "name": "stdout",
     "output_type": "stream",
     "text": [
      "~~~~~~~~~~~~~~~~~~~~~~~~~~~~~~~~~~~~~~~~~~~~~~~~~~\n",
      "For n = 10, x = 1.000000e-01, relErr = 4.018285e-16\n",
      "For n = 100, x = 1.000000e-01, relErr = 4.018285e-16\n",
      "For n = 1000, x = 1.000000e-01, relErr = 4.018285e-16\n",
      "~~~~~~~~~~~~~~~~~~~~~~~~~~~~~~~~~~~~~~~~~~~~~~~~~~\n",
      "For n = 10, x = 2.000000e-01, relErr = 5.453842e-16\n",
      "For n = 100, x = 2.000000e-01, relErr = 1.817947e-16\n",
      "For n = 1000, x = 2.000000e-01, relErr = 1.817947e-16\n",
      "~~~~~~~~~~~~~~~~~~~~~~~~~~~~~~~~~~~~~~~~~~~~~~~~~~\n",
      "For n = 10, x = 3.000000e-01, relErr = 3.388591e-14\n",
      "For n = 100, x = 3.000000e-01, relErr = 1.644947e-16\n",
      "For n = 1000, x = 3.000000e-01, relErr = 1.644947e-16\n",
      "~~~~~~~~~~~~~~~~~~~~~~~~~~~~~~~~~~~~~~~~~~~~~~~~~~\n",
      "For n = 10, x = 4.000000e-01, relErr = 7.287253e-13\n",
      "For n = 100, x = 4.000000e-01, relErr = 1.488409e-16\n",
      "For n = 1000, x = 4.000000e-01, relErr = 1.488409e-16\n",
      "~~~~~~~~~~~~~~~~~~~~~~~~~~~~~~~~~~~~~~~~~~~~~~~~~~\n",
      "For n = 10, x = 5.000000e-01, relErr = 7.740957e-12\n",
      "For n = 100, x = 5.000000e-01, relErr = 2.693537e-16\n",
      "For n = 1000, x = 5.000000e-01, relErr = 2.693537e-16\n",
      "~~~~~~~~~~~~~~~~~~~~~~~~~~~~~~~~~~~~~~~~~~~~~~~~~~\n",
      "For n = 10, x = 6.000000e-01, relErr = 5.249477e-11\n",
      "For n = 100, x = 6.000000e-01, relErr = 1.218607e-16\n",
      "For n = 1000, x = 6.000000e-01, relErr = 1.218607e-16\n",
      "~~~~~~~~~~~~~~~~~~~~~~~~~~~~~~~~~~~~~~~~~~~~~~~~~~\n",
      "For n = 10, x = 7.000000e-01, relErr = 2.611517e-10\n",
      "For n = 100, x = 7.000000e-01, relErr = 2.205282e-16\n",
      "For n = 1000, x = 7.000000e-01, relErr = 2.205282e-16\n",
      "~~~~~~~~~~~~~~~~~~~~~~~~~~~~~~~~~~~~~~~~~~~~~~~~~~\n",
      "For n = 10, x = 8.000000e-01, relErr = 1.035607e-09\n",
      "For n = 100, x = 8.000000e-01, relErr = 0.000000e+00\n",
      "For n = 1000, x = 8.000000e-01, relErr = 0.000000e+00\n",
      "~~~~~~~~~~~~~~~~~~~~~~~~~~~~~~~~~~~~~~~~~~~~~~~~~~\n",
      "For n = 10, x = 9.000000e-01, relErr = 3.453748e-09\n",
      "For n = 100, x = 9.000000e-01, relErr = 0.000000e+00\n",
      "For n = 1000, x = 9.000000e-01, relErr = 0.000000e+00\n",
      "~~~~~~~~~~~~~~~~~~~~~~~~~~~~~~~~~~~~~~~~~~~~~~~~~~\n",
      "For n = 10, x = 1.000000e+00, relErr = 1.004777e-08\n",
      "For n = 100, x = 1.000000e+00, relErr = 1.633713e-16\n",
      "For n = 1000, x = 1.000000e+00, relErr = 1.633713e-16\n",
      "~~~~~~~~~~~~~~~~~~~~~~~~~~~~~~~~~~~~~~~~~~~~~~~~~~\n",
      "For n = 10, x = 1.100000e+00, relErr = 2.617365e-08\n",
      "For n = 100, x = 1.100000e+00, relErr = 1.478245e-16\n",
      "For n = 1000, x = 1.100000e+00, relErr = 1.478245e-16\n",
      "~~~~~~~~~~~~~~~~~~~~~~~~~~~~~~~~~~~~~~~~~~~~~~~~~~\n",
      "For n = 10, x = 1.200000e+00, relErr = 6.223618e-08\n",
      "For n = 100, x = 1.200000e+00, relErr = 1.337571e-16\n",
      "For n = 1000, x = 1.200000e+00, relErr = 1.337571e-16\n",
      "~~~~~~~~~~~~~~~~~~~~~~~~~~~~~~~~~~~~~~~~~~~~~~~~~~\n",
      "For n = 10, x = 1.300000e+00, relErr = 1.370756e-07\n",
      "For n = 100, x = 1.300000e+00, relErr = 1.210284e-16\n",
      "For n = 1000, x = 1.300000e+00, relErr = 1.210284e-16\n",
      "~~~~~~~~~~~~~~~~~~~~~~~~~~~~~~~~~~~~~~~~~~~~~~~~~~\n",
      "For n = 10, x = 1.400000e+00, relErr = 2.828495e-07\n",
      "For n = 100, x = 1.400000e+00, relErr = 0.000000e+00\n",
      "For n = 1000, x = 1.400000e+00, relErr = 0.000000e+00\n",
      "~~~~~~~~~~~~~~~~~~~~~~~~~~~~~~~~~~~~~~~~~~~~~~~~~~\n",
      "For n = 10, x = 1.500000e+00, relErr = 5.517532e-07\n",
      "For n = 100, x = 1.500000e+00, relErr = 3.963588e-16\n",
      "For n = 1000, x = 1.500000e+00, relErr = 3.963588e-16\n",
      "~~~~~~~~~~~~~~~~~~~~~~~~~~~~~~~~~~~~~~~~~~~~~~~~~~\n",
      "For n = 10, x = 1.600000e+00, relErr = 1.024909e-06\n",
      "For n = 100, x = 1.600000e+00, relErr = 0.000000e+00\n",
      "For n = 1000, x = 1.600000e+00, relErr = 0.000000e+00\n",
      "~~~~~~~~~~~~~~~~~~~~~~~~~~~~~~~~~~~~~~~~~~~~~~~~~~\n",
      "For n = 10, x = 1.700000e+00, relErr = 1.823726e-06\n",
      "For n = 100, x = 1.700000e+00, relErr = 3.245111e-16\n",
      "For n = 1000, x = 1.700000e+00, relErr = 3.245111e-16\n",
      "~~~~~~~~~~~~~~~~~~~~~~~~~~~~~~~~~~~~~~~~~~~~~~~~~~\n",
      "For n = 10, x = 1.800000e+00, relErr = 3.123964e-06\n",
      "For n = 100, x = 1.800000e+00, relErr = 1.468149e-16\n",
      "For n = 1000, x = 1.800000e+00, relErr = 1.468149e-16\n",
      "~~~~~~~~~~~~~~~~~~~~~~~~~~~~~~~~~~~~~~~~~~~~~~~~~~\n",
      "For n = 10, x = 1.900000e+00, relErr = 5.172695e-06\n",
      "For n = 100, x = 1.900000e+00, relErr = 0.000000e+00\n",
      "For n = 1000, x = 1.900000e+00, relErr = 0.000000e+00\n"
     ]
    }
   ],
   "source": [
    "# Note: n should stay small\n",
    "# Students should numerically demonstrate the convergence in this code cell\n",
    "xs = np.linspace(0,2,num=20,endpoint=False)[1:]\n",
    "ns = np.logspace(1,3, 3).astype('int')  \n",
    "for x in xs:\n",
    "    print('~'*50)\n",
    "    for n in ns:\n",
    "        print(\"For n = {:d}, x = {:e}, relErr = {:e}\".format(n,x,np.abs(partial_sum(n,x) - lim_func(x))/np.abs(lim_func(x))))"
   ]
  },
  {
   "cell_type": "markdown",
   "id": "cdaa41ac-170f-4b9f-8eef-b5fafa705611",
   "metadata": {},
   "source": [
    "---\n",
    "#### A familiar infinite-dimensional vector space\n",
    "---\n",
    "\n",
    "- $\\mathcal{C}([a,b])$ is commonly used to denote continuous real-valued functions defined on an interval $[a,b]$ where $a<b$ are real numbers. For instance, $\\mathcal{C}([0,1])$ is the space of all continuous real-valued functions defined on the interval $[0,1]$.\n",
    "\n",
    "  - This becomes a Banach space when equipped with the $\\sup$-norm metric, denoted by $\\|\\cdot\\|_\\infty$ and defined for any $f\\in\\mathcal{C}([a,b])$ as\n",
    "<br><br>\n",
    "$$\n",
    "      \\| f\\|_\\infty := \\sup_{a\\leq x\\leq b} |f(x)|.\n",
    "$$\n",
    "\n",
    "  - Note that by the extreme value theorem, we can replace the $\\sup$ by a $\\max$ since a continuous real-valued function defined on a closed and bounded interval must achieve its maximum and minimum values.\n",
    "  \n",
    "  - A sequence of functions that converges in $\\mathcal{C}([a,b])$ under the $\\sup$-norm metric is said to [**converge uniformly**](https://en.wikipedia.org/wiki/Uniform_convergence). Uniform convergence of functions is an incredibly important concept in applied analysis (and PDEs require a lot of applied analysis). \n",
    "  \n",
    "  - Uniform convergence is *stronger* than pointwise convergence meaning it implies pointwise convergence (but pointwise convergence does not necessarily imply uniform convergence).\n",
    "  \n",
    "Unlike the previous examples of $\\mathbb{R}^k$ where each vector is finite-dimensional so that computing the norms on a computer is possible, the vectors in $\\mathcal{C}([a,b])$ (yes, the elements of this space are functions and functions are types of vectors) are intrinsically infinite-dimensional. This is indeed quite a complicating factor in numerically studying uniform convergence compared to pointwise convergence of functions. Pointwise convergence requires us to first fix an input value in the domain of the functions and then study the subsequent sequence of function values whereas uniform convergence is a statement about the convergence of the sequence of functions across all values in its domain considered simultaneously!\n",
    "\n",
    "We can compute an estimate of the $\\sup$-norm metric of any $f\\in\\mathcal{C}([a,b])$ by creating an array of points in $[a,b]$, evaluating the function at each of the points in this array, and then treating this array of points like a finite-dimensional vector for which it is trivial to compute the $\\sup$-norm. \n",
    "\n",
    "We do this below."
   ]
  },
  {
   "cell_type": "code",
   "execution_count": 33,
   "id": "a0347a77-37d0-4217-a939-58d663e60e4a",
   "metadata": {},
   "outputs": [],
   "source": [
    "# First we create an array of points to discretize [a,b]\n",
    "# Students are encouraged to change these values of variables below.\n",
    "a = 0 \n",
    "b = 1\n",
    "x = np.linspace(a, b, num=100)  # Creates evenly spaced numbers from a to b"
   ]
  },
  {
   "cell_type": "code",
   "execution_count": 34,
   "id": "fc83f944-c00b-4d8a-b7b4-450fd73bf2fa",
   "metadata": {},
   "outputs": [],
   "source": [
    "# Now we create a function\n",
    "f = lambda x : x**2 - np.exp(x)*np.sin(np.pi*x)"
   ]
  },
  {
   "cell_type": "code",
   "execution_count": 35,
   "id": "de09886c-f717-4776-a913-2c23b2f9364b",
   "metadata": {},
   "outputs": [
    {
     "data": {
      "text/plain": [
       "1.4109243614213371"
      ]
     },
     "execution_count": 35,
     "metadata": {},
     "output_type": "execute_result"
    }
   ],
   "source": [
    "np.linalg.norm(f(x), ord=np.inf)"
   ]
  },
  {
   "cell_type": "code",
   "execution_count": 36,
   "id": "df09c9e3-b132-42fa-a027-ee6617034e50",
   "metadata": {},
   "outputs": [],
   "source": [
    "import matplotlib.pyplot as plt  # Now we can make some plots"
   ]
  },
  {
   "cell_type": "code",
   "execution_count": 37,
   "id": "1b371f3e-f359-4e8e-afac-3b7b9b683af6",
   "metadata": {},
   "outputs": [
    {
     "data": {
      "image/png": "[encoded data removed]",
      "text/plain": [
       "<Figure size 432x288 with 1 Axes>"
      ]
     },
     "metadata": {
      "needs_background": "light"
     },
     "output_type": "display_data"
    }
   ],
   "source": [
    "%matplotlib inline\n",
    "plt.figure(0)\n",
    "plt.plot(x, f(x), label='$f(x)$')\n",
    "plt.plot(x, np.abs(f(x)), ls='-.', label='$|f(x)|$')\n",
    "plt.plot(x, np.linalg.norm(f(x), ord=np.inf)*np.ones(len(x)),\n",
    "         ls = ':', label=r'$\\approx \\|f(x)\\|_\\infty$')\n",
    "plt.legend(fontsize=18)\n",
    "plt.tight_layout()"
   ]
  },
  {
   "cell_type": "markdown",
   "id": "af8f77ea-d78d-4f7e-8c35-e87fdad4e537",
   "metadata": {},
   "source": [
    "---\n",
    "#### Examples of convergent sequences in $\\mathcal{C}([a,b])$:\n",
    "---\n",
    "\n",
    "- Let $a=0$ and $b=1$, then $f_n(x)=x/n$ for each $n\\in\\mathbb{N}$ defines a sequence in $\\mathcal{C}([0,1])$ that converges uniformly to the zero function. Moroever, the sequence of derivative functions is $f_n'(x)=1/n$ (which is a sequence of constant functions) that also converge uniformly to the zero function.\n",
    "\n",
    "- Let $a=0$ and $b=1$, then $f_n(x)=\\sin(n\\pi x)/n$ for each $n\\in\\mathbb{N}$ defines a sequence in $\\mathcal{C}([0,1])$ that converges uniformly to the zero function. However, the sequence of derivative functions is $f_n'(x)=\\pi\\cos(n\\pi x)$ which is a bounded sequence in $\\mathcal{C}([0,1])$ but fails to converge at almost every point in $[0,1]$ and certainly does *not* converge uniformly. \n",
    "\n",
    "- A useful example of a sequence of functions that converges at every point in $[0,1]$ but fails to converge uniformly is the sequence defined by $(x^n)\\subset\\mathcal{C}([0,1])$ which converges pointwise to the discontinuous function that is equal to $0$ for all $0\\leq x<1$ and is equal to $1$ at $x=1$. "
   ]
  },
  {
   "cell_type": "markdown",
   "id": "873d3675-e74b-4520-8868-525ee72ed154",
   "metadata": {},
   "source": [
    "---\n",
    "#### Back to some definitions and notation\n",
    "---\n",
    "\n",
    "**Rate of Convergence (ROC)**. Let $X$ be a Banach space and $x_n\\to x\\in X$. We say that $x_n\\to x$ with the rate $\\alpha\\in\\mathbb{R}$ if there exists a constant $c\\in\\mathbb{R}$ (not depending on $n$) such that\n",
    "\n",
    "$$ \\large \\|x_n-x\\| \\leq c\\left(\\frac{1}{n}\\right)^\\alpha. $$\n",
    "   \n",
    "- If $\\alpha=1$, we say that the rate of convergence is either first-order or linear.\n",
    "\n",
    "- If $\\alpha=2$, we say that the rate of convergence is either second-order of quadratic.\n",
    "You should get the idea for $\\alpha > 2$.\n",
    "\n",
    "**Superlinear Convergence**. We say that a sequence $(x_n)\\subset X$ converges superlinearly towards $x\\in X$ if there is a positive sequence of real numbers $(c_n)\\subset\\mathbb{R}$ such that $c_n\\to 0$ and $\\|x_n-x\\| \\leq \\dfrac{c_n}{n}$."
   ]
  },
  {
   "cell_type": "markdown",
   "id": "e69e1118-1d63-4dc2-a504-0ec32b82f755",
   "metadata": {},
   "source": [
    "**The $\\mathcal{O}$-Notation (\"Big-Oh\" Notation)**. <mark>(This is not a standard definition of the notation, but it is useful for the purposes of this class.)</mark> Let $X$ be a Banach space, $(x_n)\\subset X$, and $(y_n)$ a sequence of real numbers with $y_n\\geq 0$ for all $n$. If there is a finite constant $c$, not depending on $n$, such that \n",
    "\n",
    "$$\\large \\|x_n\\| \\leq cy_n \\ \\ \\ \\forall \\ n\\geq 1,$$\n",
    "\n",
    "we say that the sequence $(x_n)$ is of order $(y_n)$, and we write, \n",
    "\n",
    "$$\\large x_n=\\mathcal{O}(y_n).$$"
   ]
  },
  {
   "cell_type": "markdown",
   "id": "90ddc573-da08-43ca-a1bd-82f54bcc2ec8",
   "metadata": {},
   "source": [
    "---\n",
    "#### Connecting $\\mathcal{O}$-notation with ROC and practical estimation of ROC\n",
    "---\n",
    "\n",
    "<mark>When a sequence converges, it is useful to conceptualize each element in the sequence as an approximation to the limit.</mark> \n",
    "\n",
    "When the space is a Banach space, then we can make sense of $x_n-x$ as some approximation to the zero vector. In other words, we think of the ***sequence of errors*** $(e_n):=(x_n-x)$ defined by each approximation subtracted from the limit. We are then interested in the ROC of $\\| e_n \\|\\to 0$. It is sometimes convenient to directly define the error sequence as $(e_n)=(\\|x_n-x\\|)$ so that the error vectors are transformed into a sequence of real numbers that should converge to zero. \n",
    "\n",
    "It turns out that many useful methods for estimating solutions have a ROC that is expressed in terms of $\\mathcal{O}(h(n)^\\alpha)$ where $n$ defines something related to the \"effort\" used in the method and $h(n)$ maps this to some sort of \"discretization\" parameter. In this class, we will often see that $n$ refers to the number of interior points used to discretize an interval like $[0,1]$ and $h(n)=\\dfrac{1}{n+1}$ is the spacing between these interior points. Methods are often referred to as first- or second-order if $\\alpha=1$ or $\\alpha=2$. \n",
    "\n",
    "This still does not address how we actually estimate the ROC. We do this by taking logarithms of both sides of the inequality in the definition of ROC with $h(n)$ replacing $1/n$ above to yield\n",
    "    \n",
    "$$\n",
    "    \\large \\log \\|x_n-x\\| \\leq \\alpha \\log \\left(c h(n)\\right) = \\alpha\\log c + \\alpha \\log\\left(h(n)\\right). \n",
    "$$\n",
    "\n",
    "With this, we can perform regression using ``polyfit`` within ``numpy`` (see https://docs.scipy.org/doc/numpy/reference/generated/numpy.polyfit.html for more info) to fit a line to the logarithm of a few terms from the sequences $\\|x_n-x\\|$ and $h(n)$ and take the slope of that line to get an estimate of the ROC."
   ]
  },
  {
   "cell_type": "markdown",
   "id": "42100cb8-55ab-4c9d-9191-3eefaa902d4e",
   "metadata": {},
   "source": [
    "**Before we estimate ROC.** An important point is that we first must determine the limit of $(x_n)$, which is not always obvious. Plots are useful tools if the Banach space can be easily visualized. However, we often must resort to ***the method of manufactured solutions*** to numerically investigate or verify ROCs. "
   ]
  },
  {
   "cell_type": "markdown",
   "id": "dbc5e262-a73c-4b93-8c7c-71519673b0ff",
   "metadata": {},
   "source": [
    "---\n",
    "### Section 1.2.2: Examples of real-valued sequences converging to zero\n",
    "---\n",
    "\n",
    "Below, we show how to estimate the rate of convergence for some sequences that converge to zero.\n",
    "\n",
    "We know that \n",
    "\n",
    "- $x_n = \\sqrt{\\dfrac{1}{n}} \\Rightarrow x_n = \\mathcal{O}\\left(\\left(\\dfrac{1}{n}\\right)^{1/2}\\right)$\n",
    "\n",
    "- $x_n = \\sin(1/n) \\approx 1/n$ if $n$ is sufficiently large since $\\sin(\\theta)\\approx \\theta$ if $|\\theta|\\ll 1$ (i.e., if $\\theta$ is close to zero). Thus, $x_n=\\sin(1/n) = \\mathcal{O}\\left(\\left(\\dfrac{1}{n}\\right)\\right)$.\n",
    "\n",
    "- By a similar argument as the above example, $x_n = \\sqrt{\\dfrac{1}{n}} \\sin^2(1/n) = \\mathcal{O}\\left(\\left(\\dfrac{1}{n}\\right)^{5/2}\\right)$.\n",
    "\n",
    "\n",
    "We explore these in code below."
   ]
  },
  {
   "cell_type": "code",
   "execution_count": 38,
   "id": "8094808d-fe66-4ad7-9f69-b4e81586d500",
   "metadata": {},
   "outputs": [],
   "source": [
    "N = 50  # Define the number of terms to compute for each sequence\n",
    "n = np.linspace(1, N, num=N)  # Create an array of integers from 1 to N\n",
    "\n",
    "x1 = np.sqrt(1./n)  # Seq. 1\n",
    "x2 = np.sin(1./n)  # Seq. 2\n",
    "x3 = np.sqrt(1./n) * np.sin(1./n)**2  # Seq. 3"
   ]
  },
  {
   "cell_type": "code",
   "execution_count": 39,
   "id": "15017c77-c445-4bc3-a825-b8d2a810d12f",
   "metadata": {},
   "outputs": [
    {
     "data": {
      "image/png": "[encoded data removed]",
      "text/plain": [
       "<Figure size 360x1080 with 3 Axes>"
      ]
     },
     "metadata": {
      "needs_background": "light"
     },
     "output_type": "display_data"
    }
   ],
   "source": [
    "%matplotlib inline\n",
    "fig = plt.figure(1, figsize=(5, 15))  \n",
    "\n",
    "ax1 = fig.add_subplot(3, 1, 1)  # 3x1 array - subplot 1\n",
    "ax2 = fig.add_subplot(3, 1, 2)  # 3x1 array - subplot 2\n",
    "ax3 = fig.add_subplot(3, 1, 3)  # 3x1 array - subplot 3\n",
    "\n",
    "ax1.set_title('$x_n = \\sqrt{1/n}$')\n",
    "ax2.set_title('$x_n = \\sin(1/n) $')\n",
    "ax3.set_title('$x_n = \\sqrt{1/n}\\sin^2(1/n)$')\n",
    "\n",
    "ax1.set_xlim(1, N)\n",
    "ax2.set_xlim(1, N)\n",
    "ax3.set_xlim(1, N)\n",
    "\n",
    "ax1.scatter(n, x1)\n",
    "ax2.scatter(n, x2)\n",
    "ax3.scatter(n, x3)\n",
    "plt.tight_layout()"
   ]
  },
  {
   "cell_type": "code",
   "execution_count": 40,
   "id": "b5e31280-52c8-4f8f-83c1-de3be8a3e090",
   "metadata": {},
   "outputs": [],
   "source": [
    "x_lim = 0  # limit for each sequence\n",
    "\n",
    "# Remember to always take the absolute value before computing the \n",
    "# log of errors since errors can be positive or negative\n",
    "x1_errors = np.abs(x1 - x_lim)\n",
    "x2_errors = np.abs(x2 - x_lim)\n",
    "x3_errors = np.abs(x3 - x_lim)"
   ]
  },
  {
   "cell_type": "code",
   "execution_count": 41,
   "id": "928727df-594d-44a1-9fee-ebd54172bb04",
   "metadata": {},
   "outputs": [
    {
     "name": "stdout",
     "output_type": "stream",
     "text": [
      "ROC for $x_1$ =  0.5000000000000002\n",
      "ROC for $x_2$ =  0.9823713801808255\n",
      "ROC for $x_3$ =  2.4647427603616516\n"
     ]
    }
   ],
   "source": [
    "# If we append a [0] to the end of the following polyfit calls, then we only return the slopes\n",
    "ROC_1 = np.polyfit(np.log(1./n), np.log(x1_errors), 1)[0]\n",
    "ROC_2 = np.polyfit(np.log(1./n), np.log(x2_errors), 1)[0]\n",
    "ROC_3 = np.polyfit(np.log(1./n), np.log(x3_errors), 1)[0]\n",
    "\n",
    "print(\"ROC for $x_1$ = \", ROC_1)\n",
    "print(\"ROC for $x_2$ = \", ROC_2)\n",
    "print(\"ROC for $x_3$ = \", ROC_3)"
   ]
  },
  {
   "cell_type": "code",
   "execution_count": 42,
   "id": "3bd87d89-59f1-42d1-85a0-0cab0dd3b108",
   "metadata": {},
   "outputs": [
    {
     "data": {
      "image/png": "[encoded data removed]",
      "text/plain": [
       "<Figure size 360x1080 with 3 Axes>"
      ]
     },
     "metadata": {
      "needs_background": "light"
     },
     "output_type": "display_data"
    }
   ],
   "source": [
    "%matplotlib inline\n",
    "fig = plt.figure(2, figsize=(5, 15))\n",
    "\n",
    "ax1 = fig.add_subplot(3, 1, 1)  # 3x1 array - subplot 1\n",
    "ax2 = fig.add_subplot(3, 1, 2)  # 3x1 array - subplot 2\n",
    "ax3 = fig.add_subplot(3, 1, 3)  # 3x1 array - subplot 3\n",
    "\n",
    "axs = [ax1, ax2, ax3]\n",
    "ROCs = [ROC_1, ROC_2, ROC_3]\n",
    "errors = [x1_errors, x2_errors, x3_errors]\n",
    "sequence_strs = [r'$\\sqrt{\\dfrac{1}{n}}$', r'$\\sin(1/n)$', r'$\\sqrt{\\dfrac{1}{n}} \\sin^2(1/n)$']\n",
    "\n",
    "for i in range(3):\n",
    "    axs[i].loglog(1./n, errors[i], label='log of $|x_n - 0|$')\n",
    "    \n",
    "    slope_str = \"{:1.2f}\".format(ROCs[i])\n",
    "    \n",
    "    axs[i].loglog(1./n, (1./n * (errors[i][0]+1))**ROCs[i],  # Note the formula used to vertically offset this plot from the prior\n",
    "               'r:', label='slope = ' + slope_str)\n",
    "    \n",
    "    title_str = sequence_strs[i] + r' has  ROC $\\approx$' + slope_str\n",
    "    \n",
    "    axs[i].set_title(title_str)\n",
    "    axs[i].set_xlabel('log of $1/n$')\n",
    "    axs[i].legend(loc='upper left', shadow=True)\n",
    "    \n",
    "plt.tight_layout()"
   ]
  },
  {
   "cell_type": "markdown",
   "id": "efe4ec41-af44-4375-bc51-3bd69d77d66d",
   "metadata": {},
   "source": [
    "---\n",
    "#### Student Activity\n",
    "---\n",
    "\n",
    "Numerically demonstrate that $x_n = \\sqrt{\\dfrac{3n+4}{n^2+2n-1}}=\\mathcal{O}\\left(\\left(\\dfrac{1}{n}\\right)^{1/2}\\right)$."
   ]
  },
  {
   "cell_type": "code",
   "execution_count": 43,
   "id": "8d70674c-ff6d-42bd-bd14-b08dedf56a8a",
   "metadata": {},
   "outputs": [],
   "source": [
    "N = 50  # Define the number of terms to compute for each sequence\n",
    "n = np.linspace(1, N, num=N)  # Create an array of integers from 1 to N\n",
    "x4 = np.sqrt((3.*n + 4) / (n**2 + 2. * n - 1))\n",
    "x4_errors = np.abs(x4 - x_lim)"
   ]
  },
  {
   "cell_type": "code",
   "execution_count": 44,
   "id": "029a0fb4-da05-447f-831f-d7f0e76ed46d",
   "metadata": {},
   "outputs": [],
   "source": [
    "ROC_4 = np.polyfit(np.log(1./n), np.log(x4_errors), 1)[0]"
   ]
  },
  {
   "cell_type": "code",
   "execution_count": 45,
   "id": "e3c9bfdc-ea0e-4dbc-ac1c-962b159006ec",
   "metadata": {},
   "outputs": [
    {
     "name": "stdout",
     "output_type": "stream",
     "text": [
      "ROC for $x_4$ =  0.4987923622819245\n"
     ]
    }
   ],
   "source": [
    "print(\"ROC for $x_4$ = \", ROC_4)"
   ]
  },
  {
   "cell_type": "markdown",
   "id": "aa8ea72e-c17e-4eaa-a74d-c8354552acf0",
   "metadata": {},
   "source": [
    "---\n",
    "#### ROC with $h=\\dfrac{1}{n}$\n",
    "---\n",
    "\n",
    "When discretizing PDEs, we often let $h$ denote a spatial discretization parameter in a particular direction. \n",
    "If we use \"regular\" discretizations, then this means we specify a number of points in each direction to define a grid where the spacing of points in a particular direction is uniform. \n",
    "We often use $n$ to refer to the number of interior points in a direction, which means that the spacing between the grid points is given by $h=\\dfrac{c}{n+1}$ where $c$ is the length of the direction. Usually $c=1$ when the length of the direction is normalized to unity. \n",
    "Thus, as $n\\to\\infty$, $h\\to 0$, so all the definitions are easily changed by making the substitutions of $h$ for $1/n$ or $1/(n+1)$ (whichever makes the most sense for the given problem) and defining the ROC as $h\\to 0$ instead of as $n\\to\\infty$.\n",
    "\n",
    "We now estimate the ROC as $h\\to 0$ for the prior sequences where $h=1/n$."
   ]
  },
  {
   "cell_type": "code",
   "execution_count": 46,
   "id": "ca47812b-9cf9-4ce9-b89a-c3f6a7f92a63",
   "metadata": {},
   "outputs": [
    {
     "data": {
      "text/markdown": [
       "ROC for $x_1$ = 0.500000"
      ],
      "text/plain": [
       "<IPython.core.display.Markdown object>"
      ]
     },
     "metadata": {},
     "output_type": "display_data"
    },
    {
     "data": {
      "text/markdown": [
       "ROC for $x_2$ = 0.982371"
      ],
      "text/plain": [
       "<IPython.core.display.Markdown object>"
      ]
     },
     "metadata": {},
     "output_type": "display_data"
    },
    {
     "data": {
      "text/markdown": [
       "ROC for $x_3$ = 2.464743"
      ],
      "text/plain": [
       "<IPython.core.display.Markdown object>"
      ]
     },
     "metadata": {},
     "output_type": "display_data"
    }
   ],
   "source": [
    "h = 1/n\n",
    "\n",
    "ROC_1 = np.polyfit(np.log(h), np.log(x1_errors), 1)[0]\n",
    "ROC_2 = np.polyfit(np.log(h), np.log(x2_errors), 1)[0]\n",
    "ROC_3 = np.polyfit(np.log(h), np.log(x3_errors), 1)[0]\n",
    "\n",
    "printmd(\"ROC for $x_1$ = {:5f}\".format(ROC_1))\n",
    "printmd(\"ROC for $x_2$ = {:5f}\".format(ROC_2))\n",
    "printmd(\"ROC for $x_3$ = {:5f}\".format(ROC_3))"
   ]
  },
  {
   "cell_type": "markdown",
   "id": "f9e12a4a-ed63-4513-9f20-a951c752166f",
   "metadata": {},
   "source": [
    "---\n",
    "### Section 1.2.3: Estimating ROC for derivative approximations to smooth functions\n",
    "---\n",
    "\n",
    "What is a ***smooth function***?\n",
    "\n",
    "> A smooth function is as smooth as we need it to be. In other words, it has as many derivatives as is required by the analysis.\n",
    "\n",
    "Below, we show simple [finite difference formulas](https://en.wikipedia.org/wiki/Finite_difference) for estimating derivatives of a ***smooth*** function of a single variable. \n",
    "They are all derived via simple Taylor series expansions. We make use of these throughout the course.\n",
    "\n",
    "- A (first-order) forward finite difference scheme for $f'$: $\\displaystyle \\frac{f(x+h) - f(x)}{h} = f'(x) + O(h)$\n",
    "\n",
    "- A (first-order) backward finite difference scheme for $f'$: $\\displaystyle \\frac{f(x) - f(x-h)}{h} = f'(x) + O(h)$\n",
    "\n",
    "- A (second-order) centered finite difference scheme for $f'$: $\\large \\frac{f(x+h) - f(x-h)}{h} = f'(x) + O(h^2)$\n",
    "\n",
    "- A (second-order) centered finite difference scheme for $f''$: $\\large \\frac{f(x+h) - 2f(x) + f(x-h)}{h^2} = f''(x) + O(h^2)$\n",
    "\n",
    "Below, we derive the first and third ones. "
   ]
  },
  {
   "cell_type": "markdown",
   "id": "c6da5a16-dc41-4303-91e7-36b2d851394a",
   "metadata": {},
   "source": [
    "---\n",
    "#### Derivation of (first-order) forward finite difference scheme for $f'$\n",
    "---\n",
    "By the [Taylor series formula](https://en.wikipedia.org/wiki/Taylor_series), we have\n",
    "\n",
    "$\n",
    "    \\large f(x+h) = f(x) + f'(x)h + f''(x)\\frac{h^2}{2} + {\\cal O}(h^3), \n",
    "$\n",
    "\n",
    "which we use to solve for $f'(x)$ to derive the particular finite difference scheme. We show the steps below.\n",
    "\n",
    "$ \\large\n",
    "\\begin{align}\n",
    " f(x+h) - f(x) &= f'(x)h + f''(x)\\frac{h^2}{2} + {\\cal O}(h^3) \\\\ \\\\ \n",
    " \\Rightarrow \\frac{f(x+h)-f(x)}{h} &= \\underbrace{f'(x) + + f''(x)\\frac{h}{2} + \\frac{{\\cal O}(h^3)}{h}}_{\\text{Notice the impact of dividing through by $h$}} \\\\ \\\\\n",
    " \\Rightarrow \\frac{f(x+h) - f(x)}{h} &= f'(x) + \\underbrace{{\\cal O}(h)}_{=f''(x)\\frac{h}{2}} + \\underbrace{{\\cal O}(h^2)}_{=\\frac{{\\cal O}(h^3)}{h}} \\\\ \\\\\n",
    " \\Rightarrow \\frac{f(x+h) - f(x)}{h} &= f'(x) + {\\cal O}(h)\n",
    "\\end{align}\n",
    "$\n",
    "\n",
    "Above, we used the fact that if $\\alpha>1$, then ${\\cal O}(h) + {\\cal O}(h^\\alpha) = {\\cal O}(h)$."
   ]
  },
  {
   "cell_type": "markdown",
   "id": "5bde0b05-0850-48c7-acf0-709150aea3f2",
   "metadata": {},
   "source": [
    "---\n",
    "#### Derivation of (second-order) centered finite difference scheme for $f'$\n",
    "---\n",
    "\n",
    "By the Taylor series formula we have both\n",
    "\n",
    "$$\n",
    " \\large   f(x+h) = f(x) + f'(x)h + f''(x)\\frac{h^2}{2} + f'''(x)\\frac{h^3}{6}+{\\cal O}(h^4),\n",
    "$$\n",
    "\n",
    "and\n",
    "\n",
    "$$\n",
    " \\large   f(x-h) = f(x) - f'(x)h + f''(x)\\frac{h^2}{2} - f'''(x)\\frac{h^3}{6}+{\\cal O}(h^4).\n",
    "$$\n",
    "\n",
    "Then, we compute $f(x+h)-f(x-h)$ from which it follows that\n",
    "\n",
    "$$\n",
    " \\large   f(x+h) - f(x-h) = 2f'(x)h + \\underbrace{f'''(x)\\frac{h^3}{3}}_{={\\cal O}(h^3)} + h.o.t.\n",
    "$$\n",
    "\n",
    "and dividing by $2h$ to both sides gives the result since ${\\cal O}(h^3)/(2h) = {\\cal O}(h^2)$. Above, \"$h.o.t.$\" stands for \"higher order terms\" to denote terms that are ${\\cal O}(h^\\alpha)$ for some $\\alpha>3$ that are subsequently dropped in the analysis. $\\Box$"
   ]
  },
  {
   "cell_type": "markdown",
   "id": "878412b9-10e7-421c-ab8e-9f0a65308772",
   "metadata": {},
   "source": [
    "---\n",
    "#### Numerical verification of ROC for finite difference schemes (and some plotting and widget exploration)\n",
    "---\n",
    "\n",
    "Below, we see the following:\n",
    "\n",
    "- How to implement all four of the finite difference schemes shown above and numerically investigate the ROC for all of them.\n",
    "\n",
    "- How to make use of various plotting/labeling techniques/tricks that are, in general, useful to know.\n",
    "\n",
    "- Issues involving numerical ROC studies that arise from finite-precision arithmetic (i.e., the limitations of using a computer). "
   ]
  },
  {
   "cell_type": "markdown",
   "id": "affe6a84-e276-497b-b515-e5a63eb32d79",
   "metadata": {},
   "source": [
    "<mark>**First, we show the remarkably simple implementations of the various finite difference methods from above.**</mark>"
   ]
  },
  {
   "cell_type": "code",
   "execution_count": 47,
   "id": "5108c64c-32ca-45c2-a003-f033d467610c",
   "metadata": {},
   "outputs": [],
   "source": [
    "# Pay attention to the parentheses in the code. Common coding mistakes involve not getting\n",
    "# parentheses correct when implementing formulas/equations with fractions in code.\n",
    "\n",
    "def fp_forward(f, x, h=0.01):  # The forward FD (FFD) approx to $f'$\n",
    "    return (f(x+h)-f(x))/h\n",
    "\n",
    "def fp_backward(f, x, h=0.01):  # The backward FD (BFD) approx to $f'$\n",
    "    return (f(x)-f(x-h))/h\n",
    "\n",
    "def fp_centered(f, x, h=0.01):  # The centered FD (CFD) approx to $f'$\n",
    "    return (f(x+h)-f(x-h))/(2*h)  # Notice the parentheses around (2*h) in the denominator (a common mistake is to omit these)\n",
    "\n",
    "def fpp_centered(f, x, h=0.01):  # The centered FD (CFD2) approx to $f''$\n",
    "    return (f(x+h)-2*f(x)+f(x-h))/(h**2)  # The parentheses in the denominator are not necessary but improve the readability of the code"
   ]
  },
  {
   "cell_type": "markdown",
   "id": "e3758a4f-1640-4f00-b836-a1fa287b6de8",
   "metadata": {},
   "source": [
    "<mark>**Next, we use `sympy` to manufacture a solution to test these methods.**</mark>"
   ]
  },
  {
   "cell_type": "code",
   "execution_count": 48,
   "id": "f31ae9b6-e3ca-41ef-802f-e8b611d94f05",
   "metadata": {},
   "outputs": [],
   "source": [
    "# A manufactured solution\n",
    "x = sym.symbols('x')\n",
    "\n",
    "u = sym.exp(-x**2)*sym.sin(3*sym.pi*x)\n",
    "u_p = u.diff(x, 1)\n",
    "u_pp = u.diff(x, 2)"
   ]
  },
  {
   "cell_type": "code",
   "execution_count": 49,
   "id": "2af3a0b5-cac2-446e-b13c-b4555c7cd474",
   "metadata": {},
   "outputs": [
    {
     "data": {
      "text/latex": [
       "$\\displaystyle e^{- x^{2}} \\sin{\\left(3 \\pi x \\right)}$"
      ],
      "text/plain": [
       "exp(-x**2)*sin(3*pi*x)"
      ]
     },
     "execution_count": 49,
     "metadata": {},
     "output_type": "execute_result"
    }
   ],
   "source": [
    "u  # Look at $u$"
   ]
  },
  {
   "cell_type": "code",
   "execution_count": 50,
   "id": "0bbc340b-3ba7-41d3-98f3-094627ae6ce0",
   "metadata": {},
   "outputs": [
    {
     "data": {
      "text/latex": [
       "$\\displaystyle - 2 x e^{- x^{2}} \\sin{\\left(3 \\pi x \\right)} + 3 \\pi e^{- x^{2}} \\cos{\\left(3 \\pi x \\right)}$"
      ],
      "text/plain": [
       "-2*x*exp(-x**2)*sin(3*pi*x) + 3*pi*exp(-x**2)*cos(3*pi*x)"
      ]
     },
     "execution_count": 50,
     "metadata": {},
     "output_type": "execute_result"
    }
   ],
   "source": [
    "u_p  # Look at $u'$"
   ]
  },
  {
   "cell_type": "code",
   "execution_count": 51,
   "id": "f7feb20e-d459-4254-a065-9af1e5daf1ea",
   "metadata": {},
   "outputs": [
    {
     "data": {
      "text/latex": [
       "$\\displaystyle \\left(- 12 \\pi x \\cos{\\left(3 \\pi x \\right)} + 2 \\cdot \\left(2 x^{2} - 1\\right) \\sin{\\left(3 \\pi x \\right)} - 9 \\pi^{2} \\sin{\\left(3 \\pi x \\right)}\\right) e^{- x^{2}}$"
      ],
      "text/plain": [
       "(-12*pi*x*cos(3*pi*x) + 2*(2*x**2 - 1)*sin(3*pi*x) - 9*pi**2*sin(3*pi*x))*exp(-x**2)"
      ]
     },
     "execution_count": 51,
     "metadata": {},
     "output_type": "execute_result"
    }
   ],
   "source": [
    "u_pp  # Look at $u''$. Who would want to compute this by hand?"
   ]
  },
  {
   "cell_type": "markdown",
   "id": "6888d49d-3aa5-478c-bb87-f207befdc69f",
   "metadata": {},
   "source": [
    "<mark>**We need to transform the symbolic functions into computable functions.**</mark>"
   ]
  },
  {
   "cell_type": "code",
   "execution_count": 52,
   "id": "2f929d0e-18a0-4643-bfdb-fb5592d26671",
   "metadata": {},
   "outputs": [],
   "source": [
    "# We need to transform the symbolic functions into functions we can evaluate (and in particular evaluate on numpy arrays).\n",
    "# To this end, we use the lambdify function within sympy which turns a symbolic function into one we can evaluate.\n",
    "\n",
    "u_eval = sym.lambdify(x, u) \n",
    "u_p_eval = sym.lambdify(x, u_p)\n",
    "u_pp_eval = sym.lambdify(x, u_pp)"
   ]
  },
  {
   "cell_type": "markdown",
   "id": "7c1edf12-3588-4670-aab2-6dda0297e55d",
   "metadata": {},
   "source": [
    "<mark>**We can now plot the function $u$ and its derivatives $u'$ and $u''$ along with their finite difference approximations. Note the use of the `sympy` method `latex` used to create \"fancy\" labels for the titles of the plots. Also note that way in which we create some of the labels for plots with \" \" instead of ' '.**</mark>"
   ]
  },
  {
   "cell_type": "code",
   "execution_count": 53,
   "id": "2d771af6-d71b-4757-ab25-0150ed2b05fa",
   "metadata": {},
   "outputs": [
    {
     "data": {
      "image/png": "[encoded data removed]",
      "text/plain": [
       "<Figure size 576x864 with 3 Axes>"
      ]
     },
     "metadata": {
      "needs_background": "light"
     },
     "output_type": "display_data"
    }
   ],
   "source": [
    "# We now plot the function and its derivatives (and derivative approximations)\n",
    "%matplotlib inline\n",
    "\n",
    "fig = plt.figure(3, figsize=(8, 12))\n",
    "\n",
    "ax1 = fig.add_subplot(3, 1, 1)  # 3x1 array - subplot 1\n",
    "ax2 = fig.add_subplot(3, 1, 2)  # 3x1 array - subplot 2\n",
    "ax3 = fig.add_subplot(3, 1, 3)  # 3x1 array - subplot 3\n",
    "\n",
    "xs = np.linspace(0, 1, 100)\n",
    "h = 0.1\n",
    "\n",
    "ax1.plot(xs, u_eval(xs))\n",
    "ax1.set_title('$' + sym.latex(u) + '$')  # A neat trick for turning a symbolic function into a LaTeX string for labeling\n",
    "\n",
    "ax2.plot(xs, u_p_eval(xs), label=\"$u'$\")  # Notice the use of \" \" for the label so that the ' can be used within the label\n",
    "ax2.plot(xs, fp_forward(u_eval, xs, h=h), ls=':', label='FFD approx.')\n",
    "ax2.plot(xs, fp_backward(u_eval, xs, h=h), ls='-.', label='BFD approx.')\n",
    "ax2.plot(xs, fp_centered(u_eval, xs, h=h), ls='--', label='CFD approx.')\n",
    "ax2.set_title('$' + sym.latex(u_p) + '$')\n",
    "ax2.legend(fontsize=14)\n",
    "\n",
    "ax3.plot(xs, u_pp_eval(xs), label=\"$u''$\")\n",
    "ax3.plot(xs, fpp_centered(u_eval, xs, h=h), ls=':', label='CFD2 approx.')\n",
    "ax3.set_title('$' + sym.latex(u_pp) + '$')\n",
    "ax3.legend(fontsize=14)\n",
    "\n",
    "plt.tight_layout()"
   ]
  },
  {
   "cell_type": "markdown",
   "id": "e550515b-c77b-4f79-99a1-d05abbf64f74",
   "metadata": {},
   "source": [
    "<mark>**This is a good place to use widgets for greater interactivity so that we can explore the impact of changing the `h` parameter in the finite difference functions. Observe what happens to the second derivative approximation as soon as `h` is around $10^{-8}$. Why do you think this is? Why does it take longer for issues to arise in the first-order derivative approximations?**</mark>"
   ]
  },
  {
   "cell_type": "code",
   "execution_count": 54,
   "id": "6d1d26c8-9d6c-42c3-bc45-f981e86fc37f",
   "metadata": {},
   "outputs": [],
   "source": [
    "def plot_derivs(f, xs, h, f_p=None, f_pp=None, fignum=4):\n",
    "    fig = plt.figure(fignum, figsize=(8, 8))\n",
    "    plt.clf()\n",
    "    \n",
    "    ax1 = fig.add_subplot(2, 1, 1)  \n",
    "    ax2 = fig.add_subplot(2, 1, 2) \n",
    "\n",
    "    if f_p is not None:\n",
    "        ax1.plot(xs, f_p(xs), label=\"$u'$\")  \n",
    "    ax1.plot(xs, fp_forward(f, xs, h=h), ls=':', label='FFD approx.')\n",
    "    ax1.plot(xs, fp_backward(f, xs, h=h), ls='-.', label='BFD approx.')\n",
    "    ax1.plot(xs, fp_centered(f, xs, h=h), ls='--', label='CFD approx.')\n",
    "    ax1.legend(fontsize=14)\n",
    "\n",
    "    if f_pp is not None:\n",
    "        ax2.plot(xs, f_pp(xs), label=\"$u''$\")\n",
    "    ax2.plot(xs, fpp_centered(f, xs, h=h), ls=':', label='CFD2 approx.')\n",
    "    ax2.legend(fontsize=14)\n",
    "    \n",
    "    plt.show()  # Needed in a function \n",
    "    plt.tight_layout()"
   ]
  },
  {
   "cell_type": "code",
   "execution_count": 55,
   "id": "016043a0-957b-4b95-9388-f104ab5ff1a3",
   "metadata": {},
   "outputs": [
    {
     "data": {
      "application/vnd.jupyter.widget-view+json": {
       "model_id": "581283372b4c46d4ba52023f953fd043",
       "version_major": 2,
       "version_minor": 0
      },
      "text/plain": [
       "interactive(children=(FloatLogSlider(value=0.1, description='h', max=-1.0, min=-16.0, step=1.0), Button(descri…"
      ]
     },
     "metadata": {},
     "output_type": "display_data"
    },
    {
     "data": {
      "text/plain": [
       "<function __main__.plot_derivs(f, xs, h, f_p=None, f_pp=None, fignum=4)>"
      ]
     },
     "execution_count": 55,
     "metadata": {},
     "output_type": "execute_result"
    }
   ],
   "source": [
    "%matplotlib widget\n",
    "\n",
    "interact_manual(plot_derivs,\n",
    "                f = fixed(u_eval),\n",
    "                f_p = fixed(u_p_eval),\n",
    "                f_pp = fixed(u_pp_eval),\n",
    "                xs = fixed(np.linspace(0, 1, 100)),\n",
    "                h = widgets.FloatLogSlider(value=0.1, base=10, max=-1, min=-16, step=1),\n",
    "                fignum = fixed(4)\n",
    "                )"
   ]
  },
  {
   "cell_type": "markdown",
   "id": "ef47e835-6e6e-45ae-be05-799f3271b2be",
   "metadata": {},
   "source": [
    "<mark>**Now we numerically explore the ROC.**</mark>\n",
    "\n",
    "Note that the theoretical ROC is defined pointwise. Is this ROC *uniform* across the domain $[0,1]$ for the function studied above?\n",
    "\n",
    "In other words, given a function $f$ that is continuously differentiable, let $f'_h$ and $f''_h$ denote some finite difference approximations to $f'$ and $f''$, respectively. Suppose at any particular $x$-value that $f'_h(x)$ is an $\\alpha$-order approximation to $f'(x)$ (i.e., $|f'_h(x) - f'(x)| = \\mathcal{O}(h^\\alpha)$) and $f''_h(x)$ is a $\\beta$-order approximation to $f''(x)$ (i.e., $|f''_h(x) - f''(x)|=\\mathcal{O}(h^\\beta)$). Is it the case that $\\|f'_h - f'\\|_\\infty = \\mathcal{O}(h^\\alpha)$ and $\\|f''_h-f''\\|_\\infty = \\mathcal{O}(h^\\beta)$?\n",
    "\n",
    "This is not as straightforward a question as it might appear because pointwise convergence does not, in general, imply uniform convergence (consider, for example, $f_n(x) = x^n$ for each $n\\in\\mathbb{N}$ on $[0,1]$ which converges pointwise, but not uniformly, to a function that is equal to $0$ for $x\\in[0,1)$ and equal to $1$ for $x=1$). \n",
    "\n",
    "We numerically investigate this below.\n",
    "\n",
    "***Note that `n=4` is the largest value that can be chosen to achieve numerical ROC that match what we expect from the theory for each method. Why is this?***"
   ]
  },
  {
   "cell_type": "code",
   "execution_count": 56,
   "id": "e46c7a40-5436-48dc-8ca6-336f5577b401",
   "metadata": {},
   "outputs": [
    {
     "name": "stdout",
     "output_type": "stream",
     "text": [
      "[1.e-01 1.e-02 1.e-03 1.e-04 1.e-05]\n"
     ]
    }
   ],
   "source": [
    "xs = np.linspace(0, 1, 200)  # Discretization of [0,1]\n",
    "\n",
    "# Try n=4, 5, 6, 7, and 8 below\n",
    "n = 5  # Defines 10^{-n} smallest h value and also the number of orders of magnitude of h to consider from 10^{-n} to 10^{-1}\n",
    "hs = np.logspace(start=-1, stop=-n, num=n)  \n",
    "print(hs)"
   ]
  },
  {
   "cell_type": "code",
   "execution_count": 57,
   "id": "b56c8e60-fae0-4a5e-8cdc-21bef8c86487",
   "metadata": {},
   "outputs": [],
   "source": [
    "# Initialize the error arrays that hold the sup-norm estimates of errors for various h\n",
    "errors_FFD = np.zeros(n)\n",
    "errors_BFD = np.zeros(n)\n",
    "errors_CFD = np.zeros(n)\n",
    "errors_CFD2 = np.zeros(n)"
   ]
  },
  {
   "cell_type": "code",
   "execution_count": 58,
   "id": "4e13fde9-211e-4d1e-99f5-d08fe081bcf7",
   "metadata": {},
   "outputs": [],
   "source": [
    "for i in range(n):\n",
    "    errors_FFD[i] = np.linalg.norm(fp_forward(u_eval, xs, hs[i]) - u_p_eval(xs), ord=np.inf)\n",
    "    errors_BFD[i] = np.linalg.norm(fp_backward(u_eval, xs, hs[i]) - u_p_eval(xs), ord=np.inf)\n",
    "    errors_CFD[i] = np.linalg.norm(fp_centered(u_eval, xs, hs[i]) - u_p_eval(xs), ord=np.inf)\n",
    "    errors_CFD2[i] = np.linalg.norm(fpp_centered(u_eval, xs, hs[i]) - u_pp_eval(xs), ord=np.inf)"
   ]
  },
  {
   "cell_type": "code",
   "execution_count": 59,
   "id": "7ec7ee45-e1bb-42df-ba3b-58b159f019bd",
   "metadata": {},
   "outputs": [
    {
     "name": "stdout",
     "output_type": "stream",
     "text": [
      "Uniform ROC for FFD = 0.997577\n",
      "Uniform ROC for BFD = 0.997590\n",
      "Uniform ROC for CFD = 1.995526\n",
      "Uniform ROC for CFD2 = 1.606423\n"
     ]
    }
   ],
   "source": [
    "Uniform_ROC_FFD = np.polyfit(np.log(hs), np.log(errors_FFD), 1)[0]\n",
    "Uniform_ROC_BFD = np.polyfit(np.log(hs), np.log(errors_BFD), 1)[0]\n",
    "Uniform_ROC_CFD = np.polyfit(np.log(hs), np.log(errors_CFD), 1)[0]\n",
    "Uniform_ROC_CFD2 = np.polyfit(np.log(hs), np.log(errors_CFD2), 1)[0]\n",
    "\n",
    "print(\"Uniform ROC for FFD = {:5f}\".format(Uniform_ROC_FFD))\n",
    "print(\"Uniform ROC for BFD = {:5f}\".format(Uniform_ROC_BFD))\n",
    "print(\"Uniform ROC for CFD = {:5f}\".format(Uniform_ROC_CFD))\n",
    "print(\"Uniform ROC for CFD2 = {:5f}\".format(Uniform_ROC_CFD2))"
   ]
  },
  {
   "cell_type": "markdown",
   "id": "12ba1daa-25da-435e-9f52-bfbd5ad6105b",
   "metadata": {},
   "source": [
    "<mark>**Plots are always very useful for helping us understand things. It is always worth it to try and visualize data.**</mark>"
   ]
  },
  {
   "cell_type": "code",
   "execution_count": 60,
   "id": "83ce72a2-dd1e-4fec-95c3-b4c703e87bda",
   "metadata": {},
   "outputs": [
    {
     "data": {
      "image/png": "[encoded data removed]",
      "text/plain": [
       "<Figure size 432x288 with 1 Axes>"
      ]
     },
     "metadata": {
      "needs_background": "light"
     },
     "output_type": "display_data"
    }
   ],
   "source": [
    "%matplotlib inline\n",
    "\n",
    "plt.figure(5)\n",
    "# Feel free to change which error is plotted below although the CFD2 and CFD ones are the most interesting\n",
    "# Look at this plot if n is 5 or more above and it is the CFD2 error being plotted (or 7 or more for the CFD error)\n",
    "plt.loglog(hs, errors_CFD2)  \n",
    "plt.tight_layout()"
   ]
  },
  {
   "cell_type": "markdown",
   "id": "3d65b9a2-c700-460d-aace-45caad10b34e",
   "metadata": {},
   "source": [
    "---\n",
    "### Section 1.2.4: An alternative ROC computation and detecting finite precision arithmetic issues \n",
    "---\n",
    "\n",
    "An alternative approach to computing the ROC by fitting a line to the \"loglog\" of all the data of normed errors vs. discretization parameters is to *iteraticaly track* how the ROC is evolving. This is, in essence, what is discussed on the Wiki page https://en.wikipedia.org/wiki/Rate_of_convergence.\n",
    "\n",
    "Put simply, we can compute the slopes of individual line segments connecting consecutive points in the loglog space of normed errors vs. discretization parameter. This will often reveal what, if any, magnitudes of discretization parameters result in significant finite precision arithmetic errors, but there is a catch (we will see this below).\n",
    "\n",
    "First, we recall that if $\\|e_h\\| = \\mathcal{O}(h^\\alpha)$, then there is a $c$, independent of $h$, such that $\\|e_h\\| = c\\left(h^\\alpha\\right)$, which implies\n",
    "\n",
    "$$\n",
    "    \\log \\|e_h\\| = \\log c + \\alpha \\log h.\n",
    "$$\n",
    "\n",
    "This subsequently implies for $h_1\\neq h_2$ that\n",
    "\n",
    "$$\n",
    "    \\log \\|e_{h_1} \\| - \\log \\| e_{h_2} \\| = \\alpha (\\log h_1 - \\log h_2).\n",
    "$$\n",
    "\n",
    "Since $\\log a - \\log b = \\log (a/b)$, we then have\n",
    "\n",
    "$$\n",
    "    \\alpha = \\frac{\\log\\left(\\frac{e_{h_1}}{e_{h_2}}\\right)}{\\log\\left(\\frac{h_1}{h_2}\\right)}.\n",
    "$$\n",
    "\n",
    "We show this in code below."
   ]
  },
  {
   "cell_type": "code",
   "execution_count": 61,
   "id": "fed73467-d428-4835-b077-950fbec02f76",
   "metadata": {},
   "outputs": [
    {
     "name": "stdout",
     "output_type": "stream",
     "text": [
      "[1.98478741 1.99984747 1.999965  ]\n"
     ]
    }
   ],
   "source": [
    "iterative_ROC_estimates = np.log(errors_CFD2[1:-1]/errors_CFD2[0:-2]) / np.log(hs[1:-1]/hs[0:-2])\n",
    "\n",
    "print(iterative_ROC_estimates)  # Recall that the hs array is in increasing order"
   ]
  },
  {
   "cell_type": "markdown",
   "id": "f6b68a28-66b6-4df1-a92c-e41b26bbff24",
   "metadata": {},
   "source": [
    "---\n",
    "#### The catch\n",
    "---\n",
    "\n",
    "This approach of iteratively monitoring $\\alpha$ may lead to incorrect ROC inferences. Or, at the very least, it is possible that it misleads one as to the ROC. In practice, it is important to look at the \"limiting behavior\" of the sequence of $\\alpha$ values computed using the method above (assuming that issues from finite precision arithmetic have been avoided).\n",
    "\n",
    "As an example, consider $e_h = |h\\log(h)|$ as $h\\to 0$ (and it should be clear we really mean $h\\downarrow 0$). \n",
    "\n",
    "First, does the limit even exist? Rewrite $e_h$ and observe that the limit is a so-called indeterminate form\n",
    "\n",
    "$$\n",
    " \\large   e_h = \\left|\\frac{\\log h}{1/h}\\right| \\to \\frac{\\infty}{\\infty} \\ \\ \\text{ as } h\\to 0.\n",
    "$$\n",
    "\n",
    "We then recall a certain rule about [hospitals from calculus](https://en.wikipedia.org/wiki/L%27H%C3%B4pital%27s_rule) to get\n",
    "\n",
    "$$\n",
    " \\large   \\lim_{h\\to 0} e_h = \\lim_{h\\to 0} \\left|\\frac{1/h}{-1/h^2}\\right| = \\lim_{h\\to 0} |h| = 0.\n",
    "$$\n",
    "\n",
    "Let's play with this numerically."
   ]
  },
  {
   "cell_type": "code",
   "execution_count": 62,
   "id": "0221503b-913b-48ad-8e1a-19d871967833",
   "metadata": {},
   "outputs": [
    {
     "name": "stdout",
     "output_type": "stream",
     "text": [
      "[3.22361913e-13 8.04444464e-12 1.98089779e-10 4.79541023e-09\n",
      " 1.13496554e-07 2.60330610e-06 5.70008174e-05 1.15651784e-03\n",
      " 2.02279288e-02 2.30258509e-01]\n"
     ]
    }
   ],
   "source": [
    "hs = np.logspace(-14, -1, 10)\n",
    "\n",
    "x_lame = np.abs(hs*np.log(hs))\n",
    "print(x_lame)"
   ]
  },
  {
   "cell_type": "code",
   "execution_count": 63,
   "id": "493ff150-efa1-453a-af41-2c84b34ada33",
   "metadata": {},
   "outputs": [
    {
     "name": "stdout",
     "output_type": "stream",
     "text": [
      "--------------------------------------------------\n",
      "Estimated ROC with successive differences: \n",
      " [0.96725931 0.96325339 0.95812871 0.9513394  0.94191408 0.92793866\n",
      " 0.90503394 0.86039936 0.73125988]\n"
     ]
    }
   ],
   "source": [
    "alpha = np.log(x_lame[1:]/x_lame[0:-1])/np.log(hs[1:]/hs[0:-1])\n",
    "print('-'*50)\n",
    "print('Estimated ROC with successive differences: \\n', alpha)"
   ]
  },
  {
   "cell_type": "code",
   "execution_count": 64,
   "id": "5e5056ba-712b-483a-8910-24537311293d",
   "metadata": {},
   "outputs": [
    {
     "name": "stdout",
     "output_type": "stream",
     "text": [
      "--------------------------------------------------\n",
      "Using regression to estimate ROC:  0.9226791397128783 \n",
      "\n"
     ]
    }
   ],
   "source": [
    "print('-'*50)\n",
    "print('Using regression to estimate ROC: ', np.polyfit(np.log(hs), np.log(x_lame), 1)[0], '\\n')"
   ]
  },
  {
   "cell_type": "code",
   "execution_count": 65,
   "id": "1dd1b184-50e5-4881-aa31-0e1212fb2e59",
   "metadata": {},
   "outputs": [
    {
     "data": {
      "image/png": "[encoded data removed]",
      "text/plain": [
       "<Figure size 360x360 with 2 Axes>"
      ]
     },
     "metadata": {
      "needs_background": "light"
     },
     "output_type": "display_data"
    }
   ],
   "source": [
    "%matplotlib inline\n",
    "fig = plt.figure(4, figsize=(5,5))\n",
    "\n",
    "ax1 = fig.add_subplot(2, 1, 1)\n",
    "ax1.semilogx(hs[1:], alpha)\n",
    "\n",
    "ax2 = fig.add_subplot(2,1,2)\n",
    "ax2.loglog(hs, x_lame)\n",
    "plt.tight_layout()"
   ]
  },
  {
   "cell_type": "markdown",
   "id": "1697d66a-2a0c-4295-8824-73854df59a2d",
   "metadata": {},
   "source": [
    "Note that as $h\\downarrow 0$ the computed $\\alpha$ values from the iterative method appear to be converging to $1$. The regression-based approach of finding a line of best fit was not much better (it is underestimating the ROC). \n",
    "\n",
    "The main lesson here is that we should not turn our minds off when studying ROC. Plots are always a good idea and numerical investigations are no substitute for actual theoretical investigation.\n",
    "\n",
    "All that being said, numerical methods are useful and a good first step to providing insight into how to tackle a problem theoretically or at least point us in the right direction of further mathematically rigorous investigation."
   ]
  },
  {
   "cell_type": "markdown",
   "id": "b9b06df3-d029-42bf-999c-2918ecb71178",
   "metadata": {},
   "source": [
    "---\n",
    "## Navigation:\n",
    "\n",
    "- [Previous](https://github.com/CU-Denver-MathStats-OER/Intro-PDEs-Theory-and-Computations/blob/main/Chp1/Chp1Sec1.ipynb)\n",
    "\n",
    "- [Next](https://github.com/CU-Denver-MathStats-OER/Intro-PDEs-Theory-and-Computations/blob/main/Chp1/Chp1Sec3.ipynb)\n",
    "---"
   ]
  }
 ],
 "metadata": {
  "kernelspec": {
   "display_name": "Python 3 (ipykernel)",
   "language": "python",
   "name": "python3"
  },
  "language_info": {
   "codemirror_mode": {
    "name": "ipython",
    "version": 3
   },
   "file_extension": ".py",
   "mimetype": "text/x-python",
   "name": "python",
   "nbconvert_exporter": "python",
   "pygments_lexer": "ipython3",
   "version": "3.9.12"
  },
  "latex_envs": {
   "LaTeX_envs_menu_present": true,
   "autoclose": false,
   "autocomplete": true,
   "bibliofile": "biblio.bib",
   "cite_by": "apalike",
   "current_citInitial": 1,
   "eqLabelWithNumbers": true,
   "eqNumInitial": 1,
   "hotkeys": {
    "equation": "Ctrl-E",
    "itemize": "Ctrl-I"
   },
   "labels_anchors": false,
   "latex_user_defs": false,
   "report_style_numbering": false,
   "user_envs_cfg": false,
   "version": "3.8.8"
  }
 },
 "nbformat": 4,
 "nbformat_minor": 5
}
